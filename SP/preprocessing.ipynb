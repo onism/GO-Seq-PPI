{
 "cells": [
  {
   "cell_type": "code",
   "execution_count": 1,
   "metadata": {},
   "outputs": [],
   "source": [
    "with open('SP_pair.txt', 'r') as f:\n",
    "    ppi_pairs = f.readlines() \n"
   ]
  },
  {
   "cell_type": "code",
   "execution_count": 2,
   "metadata": {},
   "outputs": [],
   "source": [
    "# !mkdir CV"
   ]
  },
  {
   "cell_type": "code",
   "execution_count": 2,
   "metadata": {},
   "outputs": [],
   "source": [
    "from sklearn.model_selection import StratifiedKFold\n",
    "from sklearn.model_selection import train_test_split\n",
    "import numpy as np\n",
    "for rep in range(3):\n",
    "    n_splits = 10\n",
    "    y_all_1 =  np.zeros((int(len(ppi_pairs)/2),1))\n",
    "    y_all_2 =  np.ones( ( len(ppi_pairs) - int(len(ppi_pairs)/2)   ,1))\n",
    "    y_all = np.concatenate((y_all_1, y_all_2), axis=0)\n",
    "    skf = StratifiedKFold(n_splits=n_splits, shuffle=True)\n",
    "    skf_v = StratifiedKFold(n_splits=5, shuffle=True)\n",
    "\n",
    "    for i, (train, test) in enumerate(skf.split(ppi_pairs, y_all)):\n",
    "         \n",
    "        train_pairs_file = 'CV/train'+str(rep)+'-'+str(i)\n",
    "        test_pairs_file = 'CV/test'+str(rep)+'-'+str(i)\n",
    "        valid_pairs_file = 'CV/valid'+str(rep)+'-'+str(i)\n",
    "        valid_len = int(train.shape[0]*0.1)\n",
    "        train_valid_idx = np.arange(train.shape[0])\n",
    "        np.random.shuffle(train_valid_idx)\n",
    "         \n",
    "         \n",
    "        with open(train_pairs_file,'w') as f:\n",
    "            for ind in train_valid_idx[:train.shape[0]-valid_len]:\n",
    "                f.writelines(ppi_pairs[ind])\n",
    "         \n",
    "        with open(test_pairs_file,'w') as f:\n",
    "            for ind in test:\n",
    "                f.writelines(ppi_pairs[ind])\n",
    "        \n",
    "        with open(valid_pairs_file,'w') as f:\n",
    "            for ind in train_valid_idx[train.shape[0]-valid_len:]:\n",
    "                f.writelines(ppi_pairs[ind])"
   ]
  },
  {
   "cell_type": "code",
   "execution_count": 4,
   "metadata": {},
   "outputs": [],
   "source": [
    "with open('sequence.txt', 'r') as f:\n",
    "    all_seqs = f.readlines()"
   ]
  },
  {
   "cell_type": "code",
   "execution_count": 5,
   "metadata": {},
   "outputs": [
    {
     "data": {
      "text/plain": [
       "'Q09682\\tMSRSYDSRTTIFSPEGRLYQVEYALEAINHAGVALGIVAKDGIVLAAEKKVTSKLLEQEESAEKLYHIGDNMLCAVAGLTADANILINYARRVGQQYLQTFNEEMPCEQLVRRVCDLKQGYTQYGGLRPFGVSFLYAGWDHIRGYQLFQSNPSGNYGSWQANSIGGNSTSVQSLMRQEYKDDINLDEASAMAVKFLSKTLDSNSLTHEKIEFATITKDTTKNKMVCKIWKSDEINEVLNKYQETQRQS\\n'"
      ]
     },
     "execution_count": 5,
     "metadata": {},
     "output_type": "execute_result"
    }
   ],
   "source": [
    "all_seqs[0]"
   ]
  },
  {
   "cell_type": "code",
   "execution_count": 6,
   "metadata": {},
   "outputs": [],
   "source": [
    "prot2seq = {}\n",
    "for line in all_seqs:\n",
    "    protID, seqs = line.rstrip().split('\\t')\n",
    "    prot2seq[protID] = seqs"
   ]
  },
  {
   "cell_type": "code",
   "execution_count": 7,
   "metadata": {},
   "outputs": [
    {
     "data": {
      "text/plain": [
       "'MSRSYDSRTTIFSPEGRLYQVEYALEAINHAGVALGIVAKDGIVLAAEKKVTSKLLEQEESAEKLYHIGDNMLCAVAGLTADANILINYARRVGQQYLQTFNEEMPCEQLVRRVCDLKQGYTQYGGLRPFGVSFLYAGWDHIRGYQLFQSNPSGNYGSWQANSIGGNSTSVQSLMRQEYKDDINLDEASAMAVKFLSKTLDSNSLTHEKIEFATITKDTTKNKMVCKIWKSDEINEVLNKYQETQRQS'"
      ]
     },
     "execution_count": 7,
     "metadata": {},
     "output_type": "execute_result"
    }
   ],
   "source": [
    "prot2seq['Q09682']"
   ]
  },
  {
   "cell_type": "code",
   "execution_count": 8,
   "metadata": {},
   "outputs": [],
   "source": [
    "from six.moves import cPickle as pickle #for performance\n",
    "\n",
    " \n",
    "def save_dict(di_, filename_):\n",
    "    with open(filename_, 'wb') as f:\n",
    "        pickle.dump(di_, f)\n",
    "\n",
    "def load_dict(filename_):\n",
    "    with open(filename_, 'rb') as f:\n",
    "        ret_di = pickle.load(f)\n",
    "    return ret_di"
   ]
  },
  {
   "cell_type": "code",
   "execution_count": 9,
   "metadata": {},
   "outputs": [],
   "source": [
    "save_dict(prot2seq, 'SPprot2seq.pkl')"
   ]
  },
  {
   "cell_type": "code",
   "execution_count": 10,
   "metadata": {},
   "outputs": [],
   "source": [
    "with open('go_term.txt', 'r') as f:\n",
    "    all_goterms = f.readlines()"
   ]
  },
  {
   "cell_type": "code",
   "execution_count": 11,
   "metadata": {},
   "outputs": [
    {
     "data": {
      "text/plain": [
       "'P17871\\tGO:0000983,GO:0005669,GO:0000120,GO:0006367,GO:0006384,GO:0006355,GO:0000126,GO:1903357,GO:0005634,GO:0001169,GO:0003677,GO:0006360,GO:0001006,GO:0000979\\n'"
      ]
     },
     "execution_count": 11,
     "metadata": {},
     "output_type": "execute_result"
    }
   ],
   "source": [
    "all_goterms[0]"
   ]
  },
  {
   "cell_type": "code",
   "execution_count": 12,
   "metadata": {},
   "outputs": [],
   "source": [
    "prot2go= {}\n",
    "for line in all_goterms:\n",
    "    splittext = line.rstrip().split('\\t')\n",
    "    if len(splittext) == 2:\n",
    "        protID, gos = line.rstrip().split('\\t')\n",
    "        prot2go[protID] = gos\n",
    "    else:\n",
    "        print(line)\n",
    "        protID = splittext[0] \n",
    "        prot2go[protID] = ''"
   ]
  },
  {
   "cell_type": "code",
   "execution_count": 13,
   "metadata": {},
   "outputs": [
    {
     "data": {
      "text/plain": [
       "'GO:0000983,GO:0005669,GO:0000120,GO:0006367,GO:0006384,GO:0006355,GO:0000126,GO:1903357,GO:0005634,GO:0001169,GO:0003677,GO:0006360,GO:0001006,GO:0000979'"
      ]
     },
     "execution_count": 13,
     "metadata": {},
     "output_type": "execute_result"
    }
   ],
   "source": [
    "prot2go['P17871']"
   ]
  },
  {
   "cell_type": "code",
   "execution_count": 14,
   "metadata": {},
   "outputs": [],
   "source": [
    "save_dict(prot2go, 'SPprot2go.pkl')"
   ]
  },
  {
   "cell_type": "code",
   "execution_count": 20,
   "metadata": {},
   "outputs": [],
   "source": [
    "max_golen = 0\n",
    "for key, value in prot2go.items():\n",
    "    gos = value.split(',')\n",
    "    count = 0\n",
    "    for go in gos:\n",
    "        feature = np.load('../ncbi_allfeatures4go/'+go+'_0.npy')\n",
    "        count += feature.shape[0]-2\n",
    "    if max_golen < count:\n",
    "        max_golen = count\n",
    "    "
   ]
  },
  {
   "cell_type": "code",
   "execution_count": 21,
   "metadata": {},
   "outputs": [
    {
     "data": {
      "text/plain": [
       "417"
      ]
     },
     "execution_count": 21,
     "metadata": {},
     "output_type": "execute_result"
    }
   ],
   "source": [
    "max_golen"
   ]
  },
  {
   "cell_type": "code",
   "execution_count": null,
   "metadata": {},
   "outputs": [],
   "source": []
  }
 ],
 "metadata": {
  "kernelspec": {
   "display_name": "Python 3",
   "language": "python",
   "name": "python3"
  },
  "language_info": {
   "codemirror_mode": {
    "name": "ipython",
    "version": 3
   },
   "file_extension": ".py",
   "mimetype": "text/x-python",
   "name": "python",
   "nbconvert_exporter": "python",
   "pygments_lexer": "ipython3",
   "version": "3.6.9"
  }
 },
 "nbformat": 4,
 "nbformat_minor": 2
}
