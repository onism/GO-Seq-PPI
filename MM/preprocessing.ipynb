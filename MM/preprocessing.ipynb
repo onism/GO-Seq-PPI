{
 "cells": [
  {
   "cell_type": "code",
   "execution_count": 1,
   "metadata": {},
   "outputs": [],
   "source": [
    "with open('MM_pair.txt', 'r') as f:\n",
    "    ppi_pairs = f.readlines() \n"
   ]
  },
  {
   "cell_type": "code",
   "execution_count": null,
   "metadata": {},
   "outputs": [],
   "source": [
    "# !mkdir CV"
   ]
  },
  {
   "cell_type": "code",
   "execution_count": 2,
   "metadata": {},
   "outputs": [],
   "source": [
    "from sklearn.model_selection import StratifiedKFold\n",
    "from sklearn.model_selection import train_test_split\n",
    "import numpy as np\n",
    "for rep in range(3):\n",
    "    n_splits = 10\n",
    "    y_all_1 =  np.zeros((int(len(ppi_pairs)/2),1))\n",
    "    y_all_2 =  np.ones( ( len(ppi_pairs) - int(len(ppi_pairs)/2)   ,1))\n",
    "    y_all = np.concatenate((y_all_1, y_all_2), axis=0)\n",
    "    skf = StratifiedKFold(n_splits=n_splits, shuffle=True)\n",
    "    skf_v = StratifiedKFold(n_splits=5, shuffle=True)\n",
    "\n",
    "    for i, (train, test) in enumerate(skf.split(ppi_pairs, y_all)):\n",
    "         \n",
    "        train_pairs_file = 'CV/train'+str(rep)+'-'+str(i)\n",
    "        test_pairs_file = 'CV/test'+str(rep)+'-'+str(i)\n",
    "        valid_pairs_file = 'CV/valid'+str(rep)+'-'+str(i)\n",
    "        valid_len = int(train.shape[0]*0.1)\n",
    "        train_valid_idx = np.arange(train.shape[0])\n",
    "        np.random.shuffle(train_valid_idx)\n",
    "         \n",
    "         \n",
    "        with open(train_pairs_file,'w') as f:\n",
    "            for ind in train_valid_idx[:train.shape[0]-valid_len]:\n",
    "                f.writelines(ppi_pairs[ind])\n",
    "         \n",
    "        with open(test_pairs_file,'w') as f:\n",
    "            for ind in test:\n",
    "                f.writelines(ppi_pairs[ind])\n",
    "        \n",
    "        with open(valid_pairs_file,'w') as f:\n",
    "            for ind in train_valid_idx[train.shape[0]-valid_len:]:\n",
    "                f.writelines(ppi_pairs[ind])"
   ]
  },
  {
   "cell_type": "code",
   "execution_count": 3,
   "metadata": {},
   "outputs": [],
   "source": [
    "with open('sequence.txt', 'r') as f:\n",
    "    all_seqs = f.readlines()"
   ]
  },
  {
   "cell_type": "code",
   "execution_count": 4,
   "metadata": {},
   "outputs": [
    {
     "data": {
      "text/plain": [
       "'Q3UUL5\\tMEALTLWLLPWICQCVTVRADSIIHIGAIFEENAAKDDRVFQLAVSDLSLNDDILQSEKITYSIKVIEANNPFQAVQEACDLMTQGILALVTSTGCASANALQSLTDAMHIPHLFVQRNPGGSPRTACHLNPSPDGEAYTLASRPPVRLNDVMLRLVTELRWQKFVMFYDSEYDIRGLQSFLDQASRLGLDVSLQKVDKNISHVFTSLFTTMKTEELNRYRDTLRRAILLLSPQGAHSFINEAVETNLASKDSHWVFVNEEISDPEILDLVHSALGRMTVVRQIFPSAKDNQKCMRNNHRISSLLCDPQEGYLQMLQISNLYLYDSVLMLANAFHRKLEDRKWHSMASLNCIRKSTKPWNGGRSMLDTIKKGHITGLTGVMEFREDSSNPYVQFEILGTTYSETFGKDMRKLATWDSEKGLNGSLQERPMGSRLQGLTLKVVTVLEEPFVMVAENILGQPKRYKGFSIDVLDALAKALGFKYEIYQAPDGRYGHQLHNTSWNGMIGELISKRADLAISAITITPERESVVDFSKRYMDYSVGILIKKPEEKISIFSLFAPFDFAVWACIAAAIPVVGVLIFVLNRIQAVRSQSATQPRPSASATLHSAIWIVYGAFVQQGGESSVNSVAMRIVMGSWWLFTLIVCSSYTANLAAFLTVSRMDNPIRTFQDLSKQLEMSYGTVRDSAVYEYFRAKGTNPLEQDSTFAELWRTISKNGGADNCVSNPSEGIRKAKKGNYAFLWDVAVVEYAALTDDDCSVTVIGNSISSKGYGIALQHGSPYRDLFSQRILELQDTGDLDVLKQKWWPHTGRCDLTSHSSTQTEGKSLKLHSFAGVFCILAIGLLLACLVAALELWWNSNRCHQETPKEDKEVNLEQVHRRINSLMDEDIAHKQISPASIELSALEMGGLAPSQALEPTREYQNTQLSVSTFLPEQSSHGTSRTLSSGPSSNLPLPLSSSATMPSIQCKHRSPNGGLFRQSPVKTPIPMSFQPVPGGVLPEALDTSHGTSI\\n'"
      ]
     },
     "execution_count": 4,
     "metadata": {},
     "output_type": "execute_result"
    }
   ],
   "source": [
    "all_seqs[0]"
   ]
  },
  {
   "cell_type": "code",
   "execution_count": 5,
   "metadata": {},
   "outputs": [],
   "source": [
    "prot2seq = {}\n",
    "for line in all_seqs:\n",
    "    protID, seqs = line.rstrip().split('\\t')\n",
    "    prot2seq[protID] = seqs"
   ]
  },
  {
   "cell_type": "code",
   "execution_count": 6,
   "metadata": {},
   "outputs": [
    {
     "data": {
      "text/plain": [
       "'MEALTLWLLPWICQCVTVRADSIIHIGAIFEENAAKDDRVFQLAVSDLSLNDDILQSEKITYSIKVIEANNPFQAVQEACDLMTQGILALVTSTGCASANALQSLTDAMHIPHLFVQRNPGGSPRTACHLNPSPDGEAYTLASRPPVRLNDVMLRLVTELRWQKFVMFYDSEYDIRGLQSFLDQASRLGLDVSLQKVDKNISHVFTSLFTTMKTEELNRYRDTLRRAILLLSPQGAHSFINEAVETNLASKDSHWVFVNEEISDPEILDLVHSALGRMTVVRQIFPSAKDNQKCMRNNHRISSLLCDPQEGYLQMLQISNLYLYDSVLMLANAFHRKLEDRKWHSMASLNCIRKSTKPWNGGRSMLDTIKKGHITGLTGVMEFREDSSNPYVQFEILGTTYSETFGKDMRKLATWDSEKGLNGSLQERPMGSRLQGLTLKVVTVLEEPFVMVAENILGQPKRYKGFSIDVLDALAKALGFKYEIYQAPDGRYGHQLHNTSWNGMIGELISKRADLAISAITITPERESVVDFSKRYMDYSVGILIKKPEEKISIFSLFAPFDFAVWACIAAAIPVVGVLIFVLNRIQAVRSQSATQPRPSASATLHSAIWIVYGAFVQQGGESSVNSVAMRIVMGSWWLFTLIVCSSYTANLAAFLTVSRMDNPIRTFQDLSKQLEMSYGTVRDSAVYEYFRAKGTNPLEQDSTFAELWRTISKNGGADNCVSNPSEGIRKAKKGNYAFLWDVAVVEYAALTDDDCSVTVIGNSISSKGYGIALQHGSPYRDLFSQRILELQDTGDLDVLKQKWWPHTGRCDLTSHSSTQTEGKSLKLHSFAGVFCILAIGLLLACLVAALELWWNSNRCHQETPKEDKEVNLEQVHRRINSLMDEDIAHKQISPASIELSALEMGGLAPSQALEPTREYQNTQLSVSTFLPEQSSHGTSRTLSSGPSSNLPLPLSSSATMPSIQCKHRSPNGGLFRQSPVKTPIPMSFQPVPGGVLPEALDTSHGTSI'"
      ]
     },
     "execution_count": 6,
     "metadata": {},
     "output_type": "execute_result"
    }
   ],
   "source": [
    "prot2seq['Q3UUL5']"
   ]
  },
  {
   "cell_type": "code",
   "execution_count": 7,
   "metadata": {},
   "outputs": [],
   "source": [
    "from six.moves import cPickle as pickle #for performance\n",
    "\n",
    " \n",
    "def save_dict(di_, filename_):\n",
    "    with open(filename_, 'wb') as f:\n",
    "        pickle.dump(di_, f)\n",
    "\n",
    "def load_dict(filename_):\n",
    "    with open(filename_, 'rb') as f:\n",
    "        ret_di = pickle.load(f)\n",
    "    return ret_di"
   ]
  },
  {
   "cell_type": "code",
   "execution_count": 8,
   "metadata": {},
   "outputs": [],
   "source": [
    "save_dict(prot2seq, 'MMprot2seq.pkl')"
   ]
  },
  {
   "cell_type": "code",
   "execution_count": 9,
   "metadata": {},
   "outputs": [],
   "source": [
    "with open('go_term.txt', 'r') as f:\n",
    "    all_goterms = f.readlines()"
   ]
  },
  {
   "cell_type": "code",
   "execution_count": 10,
   "metadata": {},
   "outputs": [
    {
     "data": {
      "text/plain": [
       "'Q3U4T8\\tGO:0005515,GO:0006268,GO:0008283,GO:0003697,GO:0006270,GO:0005524\\n'"
      ]
     },
     "execution_count": 10,
     "metadata": {},
     "output_type": "execute_result"
    }
   ],
   "source": [
    "all_goterms[0]"
   ]
  },
  {
   "cell_type": "code",
   "execution_count": 11,
   "metadata": {},
   "outputs": [],
   "source": [
    "prot2go= {}\n",
    "remain_prots = []\n",
    "for line in all_goterms:\n",
    "    splittext = line.rstrip().split('\\t')\n",
    "    if len(splittext) == 2:\n",
    "        protID, gos = line.rstrip().split('\\t')\n",
    "        prot2go[protID] = gos\n",
    "    else:\n",
    "#         print(line)\n",
    "        protID = splittext[0] \n",
    "        remain_prots.append(protID)\n",
    "#         prot2go[protID] = ''"
   ]
  },
  {
   "cell_type": "code",
   "execution_count": 12,
   "metadata": {},
   "outputs": [
    {
     "name": "stderr",
     "output_type": "stream",
     "text": [
      "100%|██████████| 49/49 [00:46<00:00,  1.05it/s]\n"
     ]
    }
   ],
   "source": [
    "import requests, sys\n",
    "import json\n",
    "from tqdm import tqdm\n",
    " \n",
    "remain_proteins = []\n",
    "for t in tqdm(remain_prots):\n",
    "    requestURL = \"https://www.ebi.ac.uk/QuickGO/services/annotation/search?geneProductId=\"+t\n",
    "    r = requests.get(requestURL, headers={ \"Accept\" : \"application/json\"})\n",
    "    if r.ok:\n",
    "        responseBody = r.text\n",
    "        data=json.loads(responseBody)\n",
    "        for k in data['results']: \n",
    "            go_id = k['goId'] \n",
    "            if t not in prot2go.keys():\n",
    "                prot2go[t] = go_id\n",
    "            else:\n",
    "                prot2go[t] = prot2go[t] + ',' + go_id\n",
    "        if len(data['results']) == 0:\n",
    "            remain_proteins.append(t)\n",
    "    else:\n",
    "        remain_proteins.append(t)"
   ]
  },
  {
   "cell_type": "code",
   "execution_count": 13,
   "metadata": {},
   "outputs": [],
   "source": [
    "for t in remain_proteins:\n",
    "    prot2go[t] = ''\n",
    "    "
   ]
  },
  {
   "cell_type": "code",
   "execution_count": 14,
   "metadata": {},
   "outputs": [
    {
     "data": {
      "text/plain": [
       "'GO:0005515,GO:0006268,GO:0008283,GO:0003697,GO:0006270,GO:0005524'"
      ]
     },
     "execution_count": 14,
     "metadata": {},
     "output_type": "execute_result"
    }
   ],
   "source": [
    "prot2go['Q3U4T8']"
   ]
  },
  {
   "cell_type": "code",
   "execution_count": 15,
   "metadata": {},
   "outputs": [],
   "source": [
    "save_dict(prot2go, 'MMprot2go.pkl')"
   ]
  },
  {
   "cell_type": "code",
   "execution_count": 17,
   "metadata": {},
   "outputs": [],
   "source": [
    "max_golen = 0\n",
    "for key, value in prot2go.items():\n",
    "    gos = value.split(',')\n",
    "    count = 0\n",
    "    for go in gos:\n",
    "        if len(go) > 3:\n",
    "            feature = np.load('../ncbi_allfeatures4go/'+go+'_0.npy')\n",
    "            count += feature.shape[0]-2\n",
    "    if max_golen < count:\n",
    "        max_golen = count\n",
    "    "
   ]
  },
  {
   "cell_type": "code",
   "execution_count": 18,
   "metadata": {},
   "outputs": [
    {
     "data": {
      "text/plain": [
       "1609"
      ]
     },
     "execution_count": 18,
     "metadata": {},
     "output_type": "execute_result"
    }
   ],
   "source": [
    "max_golen"
   ]
  },
  {
   "cell_type": "code",
   "execution_count": null,
   "metadata": {},
   "outputs": [],
   "source": []
  }
 ],
 "metadata": {
  "kernelspec": {
   "display_name": "Python 3",
   "language": "python",
   "name": "python3"
  },
  "language_info": {
   "codemirror_mode": {
    "name": "ipython",
    "version": 3
   },
   "file_extension": ".py",
   "mimetype": "text/x-python",
   "name": "python",
   "nbconvert_exporter": "python",
   "pygments_lexer": "ipython3",
   "version": "3.6.9"
  }
 },
 "nbformat": 4,
 "nbformat_minor": 2
}
