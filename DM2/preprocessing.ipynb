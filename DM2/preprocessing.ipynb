{
 "cells": [
  {
   "cell_type": "code",
   "execution_count": 1,
   "metadata": {},
   "outputs": [],
   "source": [
    "with open('DM2_pair.txt', 'r') as f:\n",
    "    ppi_pairs = f.readlines() \n"
   ]
  },
  {
   "cell_type": "code",
   "execution_count": 2,
   "metadata": {},
   "outputs": [],
   "source": [
    "# !mkdir CV"
   ]
  },
  {
   "cell_type": "code",
   "execution_count": 2,
   "metadata": {},
   "outputs": [],
   "source": [
    "from sklearn.model_selection import StratifiedKFold\n",
    "from sklearn.model_selection import train_test_split\n",
    "import numpy as np\n",
    "for rep in range(3):\n",
    "    n_splits = 10\n",
    "    y_all_1 =  np.zeros((int(len(ppi_pairs)/2),1))\n",
    "    y_all_2 =  np.ones( ( len(ppi_pairs) - int(len(ppi_pairs)/2)   ,1))\n",
    "    y_all = np.concatenate((y_all_1, y_all_2), axis=0)\n",
    "    skf = StratifiedKFold(n_splits=n_splits, shuffle=True)\n",
    "    skf_v = StratifiedKFold(n_splits=5, shuffle=True)\n",
    "\n",
    "    for i, (train, test) in enumerate(skf.split(ppi_pairs, y_all)):\n",
    "         \n",
    "        train_pairs_file = 'CV/train'+str(rep)+'-'+str(i)\n",
    "        test_pairs_file = 'CV/test'+str(rep)+'-'+str(i)\n",
    "        valid_pairs_file = 'CV/valid'+str(rep)+'-'+str(i)\n",
    "        valid_len = int(train.shape[0]*0.1)\n",
    "        train_valid_idx = np.arange(train.shape[0])\n",
    "        np.random.shuffle(train_valid_idx)\n",
    "         \n",
    "         \n",
    "        with open(train_pairs_file,'w') as f:\n",
    "            for ind in train_valid_idx[:train.shape[0]-valid_len]:\n",
    "                f.writelines(ppi_pairs[ind])\n",
    "         \n",
    "        with open(test_pairs_file,'w') as f:\n",
    "            for ind in test:\n",
    "                f.writelines(ppi_pairs[ind])\n",
    "        \n",
    "        with open(valid_pairs_file,'w') as f:\n",
    "            for ind in train_valid_idx[train.shape[0]-valid_len:]:\n",
    "                f.writelines(ppi_pairs[ind])"
   ]
  },
  {
   "cell_type": "code",
   "execution_count": 4,
   "metadata": {},
   "outputs": [],
   "source": [
    "with open('sequence.txt', 'r') as f:\n",
    "    all_seqs = f.readlines()"
   ]
  },
  {
   "cell_type": "code",
   "execution_count": 5,
   "metadata": {},
   "outputs": [
    {
     "data": {
      "text/plain": [
       "'O16797\\tMSHRKFSAPRHGSMAFYPKKRSARHRGKVKAFPKDDASKPVHLTCFIGYKAGMTHIVREADRPGSKINKKEVVEAVTVLETPPMIVVGAVGYIETPFGLRALVNVWAQHLSEECRRRFYKNWYKSKKKAFTKASKKWTDDLGKKSIENDFRKMLRYCKVIRVIAHSQIRLIKQRQKKAHVMEIQLNGGSIEDKVKWAREHLEKPIQVSNVFGQDEMIDCVGVTKGKGFKGVTSRWHTKKLPRKTHKGLRKVACIGAWHPSRVSTTVARAGQKGYHHRTEINKKIYRIGAGIHTKDGKVIKNNASTEYDLTDKSITPMGGFPHYGEVNNDFVMIKGCCIGSKKRIITLRKSLLKHTKRSALEQIKLKFIDTSSKMGHGRFQTPADKLAFMGPLKKDRLKEEAAATTAAAAAATTTSA\\n'"
      ]
     },
     "execution_count": 5,
     "metadata": {},
     "output_type": "execute_result"
    }
   ],
   "source": [
    "all_seqs[0]"
   ]
  },
  {
   "cell_type": "code",
   "execution_count": 6,
   "metadata": {},
   "outputs": [],
   "source": [
    "prot2seq = {}\n",
    "for line in all_seqs:\n",
    "    protID, seqs = line.rstrip().split('\\t')\n",
    "    prot2seq[protID] = seqs"
   ]
  },
  {
   "cell_type": "code",
   "execution_count": 7,
   "metadata": {},
   "outputs": [
    {
     "data": {
      "text/plain": [
       "'MSHRKFSAPRHGSMAFYPKKRSARHRGKVKAFPKDDASKPVHLTCFIGYKAGMTHIVREADRPGSKINKKEVVEAVTVLETPPMIVVGAVGYIETPFGLRALVNVWAQHLSEECRRRFYKNWYKSKKKAFTKASKKWTDDLGKKSIENDFRKMLRYCKVIRVIAHSQIRLIKQRQKKAHVMEIQLNGGSIEDKVKWAREHLEKPIQVSNVFGQDEMIDCVGVTKGKGFKGVTSRWHTKKLPRKTHKGLRKVACIGAWHPSRVSTTVARAGQKGYHHRTEINKKIYRIGAGIHTKDGKVIKNNASTEYDLTDKSITPMGGFPHYGEVNNDFVMIKGCCIGSKKRIITLRKSLLKHTKRSALEQIKLKFIDTSSKMGHGRFQTPADKLAFMGPLKKDRLKEEAAATTAAAAAATTTSA'"
      ]
     },
     "execution_count": 7,
     "metadata": {},
     "output_type": "execute_result"
    }
   ],
   "source": [
    "prot2seq['O16797']"
   ]
  },
  {
   "cell_type": "code",
   "execution_count": 8,
   "metadata": {},
   "outputs": [],
   "source": [
    "from six.moves import cPickle as pickle #for performance\n",
    "\n",
    " \n",
    "def save_dict(di_, filename_):\n",
    "    with open(filename_, 'wb') as f:\n",
    "        pickle.dump(di_, f)\n",
    "\n",
    "def load_dict(filename_):\n",
    "    with open(filename_, 'rb') as f:\n",
    "        ret_di = pickle.load(f)\n",
    "    return ret_di"
   ]
  },
  {
   "cell_type": "code",
   "execution_count": 9,
   "metadata": {},
   "outputs": [],
   "source": [
    "save_dict(prot2seq, 'dm2prot2seq.pkl')"
   ]
  },
  {
   "cell_type": "code",
   "execution_count": 10,
   "metadata": {},
   "outputs": [],
   "source": [
    "with open('go_term.txt', 'r') as f:\n",
    "    all_goterms = f.readlines()"
   ]
  },
  {
   "cell_type": "code",
   "execution_count": 11,
   "metadata": {},
   "outputs": [
    {
     "data": {
      "text/plain": [
       "'Q24572\\tGO:0005700,GO:0031523,GO:0042803,GO:0006342,GO:0000910,GO:0006334,GO:0007307,GO:0042826,GO:0016571,GO:0048813,GO:0033186,GO:0035098,GO:0042766,GO:0005634,GO:0000122,GO:0006281,GO:0007379,GO:0008284,GO:0005667,GO:0051567,GO:0007346,GO:0000281,GO:0016584,GO:0035035,GO:0035097,GO:0070734,GO:0006351,GO:0016573,GO:0016581,GO:0042393,GO:0016589,GO:0070822,GO:0007517,GO:0031497\\n'"
      ]
     },
     "execution_count": 11,
     "metadata": {},
     "output_type": "execute_result"
    }
   ],
   "source": [
    "all_goterms[0]"
   ]
  },
  {
   "cell_type": "code",
   "execution_count": 12,
   "metadata": {},
   "outputs": [
    {
     "name": "stdout",
     "output_type": "stream",
     "text": [
      "A4V1F9\t\n",
      "\n"
     ]
    }
   ],
   "source": [
    "prot2go= {}\n",
    "for line in all_goterms:\n",
    "    splittext = line.rstrip().split('\\t')\n",
    "    if len(splittext) == 2:\n",
    "        protID, gos = line.rstrip().split('\\t')\n",
    "        prot2go[protID] = gos\n",
    "    else:\n",
    "        print(line)\n",
    "        protID = splittext[0] \n",
    "        prot2go[protID] = ''"
   ]
  },
  {
   "cell_type": "code",
   "execution_count": 13,
   "metadata": {},
   "outputs": [
    {
     "data": {
      "text/plain": [
       "''"
      ]
     },
     "execution_count": 13,
     "metadata": {},
     "output_type": "execute_result"
    }
   ],
   "source": [
    "prot2go['A4V1F9']"
   ]
  },
  {
   "cell_type": "code",
   "execution_count": 14,
   "metadata": {},
   "outputs": [],
   "source": [
    "save_dict(prot2go, 'dm2prot2go.pkl')"
   ]
  },
  {
   "cell_type": "code",
   "execution_count": 15,
   "metadata": {},
   "outputs": [
    {
     "ename": "FileNotFoundError",
     "evalue": "[Errno 2] No such file or directory: '../ncbi_allfeatures4go/_0.npy'",
     "output_type": "error",
     "traceback": [
      "\u001b[0;31m---------------------------------------------------------------------------\u001b[0m",
      "\u001b[0;31mFileNotFoundError\u001b[0m                         Traceback (most recent call last)",
      "\u001b[0;32m<ipython-input-15-200ab659d52a>\u001b[0m in \u001b[0;36m<module>\u001b[0;34m\u001b[0m\n\u001b[1;32m      4\u001b[0m     \u001b[0mcount\u001b[0m \u001b[0;34m=\u001b[0m \u001b[0;36m0\u001b[0m\u001b[0;34m\u001b[0m\u001b[0;34m\u001b[0m\u001b[0m\n\u001b[1;32m      5\u001b[0m     \u001b[0;32mfor\u001b[0m \u001b[0mgo\u001b[0m \u001b[0;32min\u001b[0m \u001b[0mgos\u001b[0m\u001b[0;34m:\u001b[0m\u001b[0;34m\u001b[0m\u001b[0;34m\u001b[0m\u001b[0m\n\u001b[0;32m----> 6\u001b[0;31m         \u001b[0mfeature\u001b[0m \u001b[0;34m=\u001b[0m \u001b[0mnp\u001b[0m\u001b[0;34m.\u001b[0m\u001b[0mload\u001b[0m\u001b[0;34m(\u001b[0m\u001b[0;34m'../ncbi_allfeatures4go/'\u001b[0m\u001b[0;34m+\u001b[0m\u001b[0mgo\u001b[0m\u001b[0;34m+\u001b[0m\u001b[0;34m'_0.npy'\u001b[0m\u001b[0;34m)\u001b[0m\u001b[0;34m\u001b[0m\u001b[0;34m\u001b[0m\u001b[0m\n\u001b[0m\u001b[1;32m      7\u001b[0m         \u001b[0mcount\u001b[0m \u001b[0;34m+=\u001b[0m \u001b[0mfeature\u001b[0m\u001b[0;34m.\u001b[0m\u001b[0mshape\u001b[0m\u001b[0;34m[\u001b[0m\u001b[0;36m0\u001b[0m\u001b[0;34m]\u001b[0m\u001b[0;34m-\u001b[0m\u001b[0;36m2\u001b[0m\u001b[0;34m\u001b[0m\u001b[0;34m\u001b[0m\u001b[0m\n\u001b[1;32m      8\u001b[0m     \u001b[0;32mif\u001b[0m \u001b[0mmax_golen\u001b[0m \u001b[0;34m<\u001b[0m \u001b[0mcount\u001b[0m\u001b[0;34m:\u001b[0m\u001b[0;34m\u001b[0m\u001b[0;34m\u001b[0m\u001b[0m\n",
      "\u001b[0;32m~/anaconda3/envs/py36/lib/python3.6/site-packages/numpy/lib/npyio.py\u001b[0m in \u001b[0;36mload\u001b[0;34m(file, mmap_mode, allow_pickle, fix_imports, encoding)\u001b[0m\n\u001b[1;32m    426\u001b[0m         \u001b[0mown_fid\u001b[0m \u001b[0;34m=\u001b[0m \u001b[0;32mFalse\u001b[0m\u001b[0;34m\u001b[0m\u001b[0;34m\u001b[0m\u001b[0m\n\u001b[1;32m    427\u001b[0m     \u001b[0;32melse\u001b[0m\u001b[0;34m:\u001b[0m\u001b[0;34m\u001b[0m\u001b[0;34m\u001b[0m\u001b[0m\n\u001b[0;32m--> 428\u001b[0;31m         \u001b[0mfid\u001b[0m \u001b[0;34m=\u001b[0m \u001b[0mopen\u001b[0m\u001b[0;34m(\u001b[0m\u001b[0mos_fspath\u001b[0m\u001b[0;34m(\u001b[0m\u001b[0mfile\u001b[0m\u001b[0;34m)\u001b[0m\u001b[0;34m,\u001b[0m \u001b[0;34m\"rb\"\u001b[0m\u001b[0;34m)\u001b[0m\u001b[0;34m\u001b[0m\u001b[0;34m\u001b[0m\u001b[0m\n\u001b[0m\u001b[1;32m    429\u001b[0m         \u001b[0mown_fid\u001b[0m \u001b[0;34m=\u001b[0m \u001b[0;32mTrue\u001b[0m\u001b[0;34m\u001b[0m\u001b[0;34m\u001b[0m\u001b[0m\n\u001b[1;32m    430\u001b[0m \u001b[0;34m\u001b[0m\u001b[0m\n",
      "\u001b[0;31mFileNotFoundError\u001b[0m: [Errno 2] No such file or directory: '../ncbi_allfeatures4go/_0.npy'"
     ]
    }
   ],
   "source": [
    "max_golen = 0\n",
    "for key, value in prot2go.items():\n",
    "    gos = value.split(',')\n",
    "    count = 0\n",
    "    for go in gos:\n",
    "        feature = np.load('../ncbi_allfeatures4go/'+go+'_0.npy')\n",
    "        count += feature.shape[0]-2\n",
    "    if max_golen < count:\n",
    "        max_golen = count\n",
    "    "
   ]
  },
  {
   "cell_type": "code",
   "execution_count": 16,
   "metadata": {},
   "outputs": [
    {
     "data": {
      "text/plain": [
       "958"
      ]
     },
     "execution_count": 16,
     "metadata": {},
     "output_type": "execute_result"
    }
   ],
   "source": [
    "max_golen"
   ]
  },
  {
   "cell_type": "code",
   "execution_count": null,
   "metadata": {},
   "outputs": [],
   "source": []
  }
 ],
 "metadata": {
  "kernelspec": {
   "display_name": "Python 3",
   "language": "python",
   "name": "python3"
  },
  "language_info": {
   "codemirror_mode": {
    "name": "ipython",
    "version": 3
   },
   "file_extension": ".py",
   "mimetype": "text/x-python",
   "name": "python",
   "nbconvert_exporter": "python",
   "pygments_lexer": "ipython3",
   "version": "3.6.9"
  }
 },
 "nbformat": 4,
 "nbformat_minor": 2
}
