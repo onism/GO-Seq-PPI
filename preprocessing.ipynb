{
 "cells": [
  {
   "cell_type": "code",
   "execution_count": 1,
   "metadata": {},
   "outputs": [],
   "source": [
    "with open('SC.csv', 'r') as f:\n",
    "    ppi_pairs = f.readlines()[1:]\n",
    "from sklearn.model_selection import StratifiedKFold\n",
    "from sklearn.model_selection import train_test_split"
   ]
  },
  {
   "cell_type": "code",
   "execution_count": 2,
   "metadata": {},
   "outputs": [],
   "source": [
    "# !rm -rf SC_CV\n",
    "# !mkdir SC_CV"
   ]
  },
  {
   "cell_type": "code",
   "execution_count": 2,
   "metadata": {},
   "outputs": [],
   "source": [
    "pos_pairs = ppi_pairs[:17256]"
   ]
  },
  {
   "cell_type": "code",
   "execution_count": 4,
   "metadata": {},
   "outputs": [],
   "source": [
    "import numpy as np\n",
    "neg_pairs = np.random.choice(ppi_pairs[17257:], 17257).tolist()"
   ]
  },
  {
   "cell_type": "code",
   "execution_count": 4,
   "metadata": {},
   "outputs": [],
   "source": [
    "n_dataset = 5\n",
    "import numpy as np\n",
    "for rep in range(n_dataset):\n",
    "    pos_pairs = ppi_pairs[:17256]\n",
    "    neg_pairs = np.random.choice(ppi_pairs[17257:], 17256).tolist()\n",
    "    all_pairs = pos_pairs + neg_pairs\n",
    "    n_splits = 4\n",
    "    len_all_pairs = len(all_pairs)\n",
    "    train_valid_test_idxs =  np.arange(len_all_pairs)\n",
    "    train_valid_len =  int(0.75*len_all_pairs)\n",
    "    test_len = len_all_pairs - train_valid_len\n",
    "    valid_len = int(0.33*train_valid_len)\n",
    "    i = 0\n",
    "    train_pairs_file = 'SC_CV/new_train'+str(rep)+'-'+str(i)\n",
    "    test_pairs_file = 'SC_CV/new_test'+str(rep)+'-'+str(i)\n",
    "    valid_pairs_file = 'SC_CV/new_valid'+str(rep)+'-'+str(i)\n",
    "    train_valid_pairs_file = 'SC_CV/new_train_valid'+str(rep)+'-'+str(i)\n",
    "    np.random.shuffle(train_valid_test_idxs)\n",
    "    \n",
    "    with open(train_pairs_file,'w') as f:\n",
    "            for ind in train_valid_test_idxs[: train_valid_len - valid_len]:\n",
    "                f.writelines(ppi_pairs[ind])\n",
    "         \n",
    "    with open(valid_pairs_file,'w') as f:\n",
    "        for ind in train_valid_test_idxs[train_valid_len - valid_len:train_valid_len]:\n",
    "            f.writelines(ppi_pairs[ind])\n",
    "\n",
    "    with open(test_pairs_file,'w') as f:\n",
    "        for ind in train_valid_test_idxs[train_valid_len:]:\n",
    "            f.writelines(ppi_pairs[ind])\n",
    "    \n",
    "    with open(train_valid_pairs_file,'w') as f:\n",
    "            for ind in train_valid_test_idxs[: train_valid_len]:\n",
    "                f.writelines(ppi_pairs[ind])\n",
    "\n",
    "# import numpy as np\n",
    "    \n",
    "# len_all_pairs = len(ppi_pairs)    \n",
    "# for rep in range(3):\n",
    "#     n_splits = 10\n",
    "#     all_pairs = ppi_pairs\n",
    "#     y_all_1 =  np.zeros((17256,1))\n",
    "#     y_all_2 =  np.ones( ( len(ppi_pairs) - 17256  ,1))\n",
    "#     y_all = np.concatenate((y_all_1, y_all_2), axis=0)\n",
    "#     skf = StratifiedKFold(n_splits=n_splits, shuffle=True)\n",
    "    \n",
    "#     for i, (train, test) in enumerate(skf.split(all_pairs, y_all)):\n",
    "         \n",
    "#         train_pairs_file = 'SC_CV/all_train'+str(rep)+'-'+str(i)\n",
    "#         test_pairs_file = 'SC_CV/all_test'+str(rep)+'-'+str(i)\n",
    "#         valid_pairs_file = 'SC_CV/all_valid'+str(rep)+'-'+str(i)\n",
    "#         valid_len = int(train.shape[0]*0.33)\n",
    "#         train_valid_idx = np.arange(train.shape[0])\n",
    "#         np.random.shuffle(train_valid_idx)\n",
    "         \n",
    "         \n",
    "#         with open(train_pairs_file,'w') as f:\n",
    "#             for ind in train_valid_idx[:train.shape[0]-valid_len]:\n",
    "#                 f.writelines(ppi_pairs[ind])\n",
    "         \n",
    "#         with open(test_pairs_file,'w') as f:\n",
    "#             for ind in test:\n",
    "#                 f.writelines(ppi_pairs[ind])\n",
    "        \n",
    "#         with open(valid_pairs_file,'w') as f:\n",
    "#             for ind in train_valid_idx[train.shape[0]-valid_len:]:\n",
    "#                 f.writelines(ppi_pairs[ind])\n",
    "    "
   ]
  },
  {
   "cell_type": "code",
   "execution_count": 5,
   "metadata": {},
   "outputs": [
    {
     "data": {
      "text/plain": [
       "34512"
      ]
     },
     "execution_count": 5,
     "metadata": {},
     "output_type": "execute_result"
    }
   ],
   "source": [
    "len(all_pairs)"
   ]
  },
  {
   "cell_type": "code",
   "execution_count": 6,
   "metadata": {},
   "outputs": [
    {
     "data": {
      "text/plain": [
       "17256"
      ]
     },
     "execution_count": 6,
     "metadata": {},
     "output_type": "execute_result"
    }
   ],
   "source": [
    "len(pos_pairs)"
   ]
  },
  {
   "cell_type": "code",
   "execution_count": 7,
   "metadata": {},
   "outputs": [
    {
     "data": {
      "text/plain": [
       "(25884,)"
      ]
     },
     "execution_count": 7,
     "metadata": {},
     "output_type": "execute_result"
    }
   ],
   "source": [
    "train.shape"
   ]
  },
  {
   "cell_type": "code",
   "execution_count": 8,
   "metadata": {},
   "outputs": [
    {
     "data": {
      "text/plain": [
       "(8628,)"
      ]
     },
     "execution_count": 8,
     "metadata": {},
     "output_type": "execute_result"
    }
   ],
   "source": [
    "test.shape"
   ]
  },
  {
   "cell_type": "code",
   "execution_count": null,
   "metadata": {},
   "outputs": [],
   "source": []
  }
 ],
 "metadata": {
  "kernelspec": {
   "display_name": "Python 3",
   "language": "python",
   "name": "python3"
  },
  "language_info": {
   "codemirror_mode": {
    "name": "ipython",
    "version": 3
   },
   "file_extension": ".py",
   "mimetype": "text/x-python",
   "name": "python",
   "nbconvert_exporter": "python",
   "pygments_lexer": "ipython3",
   "version": "3.6.9"
  }
 },
 "nbformat": 4,
 "nbformat_minor": 2
}
