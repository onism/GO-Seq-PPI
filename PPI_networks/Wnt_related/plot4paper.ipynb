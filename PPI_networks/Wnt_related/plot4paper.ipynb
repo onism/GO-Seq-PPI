{
 "cells": [
  {
   "cell_type": "code",
   "execution_count": 1,
   "metadata": {},
   "outputs": [],
   "source": [
    "import numpy as np"
   ]
  },
  {
   "cell_type": "code",
   "execution_count": 2,
   "metadata": {},
   "outputs": [],
   "source": [
    "result_data = np.load('pred_results.npy')"
   ]
  },
  {
   "cell_type": "code",
   "execution_count": 4,
   "metadata": {},
   "outputs": [
    {
     "data": {
      "text/plain": [
       "0.9895833333333334"
      ]
     },
     "execution_count": 4,
     "metadata": {},
     "output_type": "execute_result"
    }
   ],
   "source": [
    "np.sum(result_data)/result_data.shape[0]"
   ]
  },
  {
   "cell_type": "code",
   "execution_count": 6,
   "metadata": {},
   "outputs": [
    {
     "data": {
      "text/plain": [
       "(array([30]), array([0]))"
      ]
     },
     "execution_count": 6,
     "metadata": {},
     "output_type": "execute_result"
    }
   ],
   "source": [
    "np.where(result_data==False)"
   ]
  },
  {
   "cell_type": "code",
   "execution_count": 9,
   "metadata": {},
   "outputs": [
    {
     "name": "stdout",
     "output_type": "stream",
     "text": [
      "Collecting bokeh\n",
      "\u001b[?25l  Downloading https://files.pythonhosted.org/packages/de/70/fdd4b186d8570a737372487cc5547aac885a1270626e3ebf03db1808e4ed/bokeh-1.4.0.tar.gz (32.4MB)\n",
      "\u001b[K     |████████████████████████████████| 32.4MB 543kB/s eta 0:00:01     |██████████████████▍             | 18.7MB 1.2MB/s eta 0:00:12\n",
      "\u001b[?25hRequirement already satisfied: six>=1.5.2 in /home/xhh/anaconda3/envs/py36/lib/python3.6/site-packages (from bokeh) (1.13.0)\n",
      "Requirement already satisfied: PyYAML>=3.10 in /home/xhh/anaconda3/envs/py36/lib/python3.6/site-packages (from bokeh) (5.1.2)\n",
      "Requirement already satisfied: python-dateutil>=2.1 in /home/xhh/anaconda3/envs/py36/lib/python3.6/site-packages (from bokeh) (2.8.0)\n",
      "Requirement already satisfied: Jinja2>=2.7 in /home/xhh/anaconda3/envs/py36/lib/python3.6/site-packages (from bokeh) (2.10.3)\n",
      "Requirement already satisfied: numpy>=1.7.1 in /home/xhh/anaconda3/envs/py36/lib/python3.6/site-packages (from bokeh) (1.17.4)\n",
      "Requirement already satisfied: pillow>=4.0 in /home/xhh/anaconda3/envs/py36/lib/python3.6/site-packages (from bokeh) (6.2.1)\n",
      "Collecting packaging>=16.8\n",
      "  Downloading https://files.pythonhosted.org/packages/cf/94/9672c2d4b126e74c4496c6b3c58a8b51d6419267be9e70660ba23374c875/packaging-19.2-py2.py3-none-any.whl\n",
      "Requirement already satisfied: tornado>=4.3 in /home/xhh/anaconda3/envs/py36/lib/python3.6/site-packages (from bokeh) (6.0.3)\n",
      "Requirement already satisfied: MarkupSafe>=0.23 in /home/xhh/anaconda3/envs/py36/lib/python3.6/site-packages (from Jinja2>=2.7->bokeh) (1.1.1)\n",
      "Requirement already satisfied: pyparsing>=2.0.2 in /home/xhh/anaconda3/envs/py36/lib/python3.6/site-packages (from packaging>=16.8->bokeh) (2.4.5)\n",
      "Building wheels for collected packages: bokeh\n",
      "  Building wheel for bokeh (setup.py) ... \u001b[?25ldone\n",
      "\u001b[?25h  Created wheel for bokeh: filename=bokeh-1.4.0-cp36-none-any.whl size=23689200 sha256=ae862c41db98a3e29a0b1f94ab6a562c599b9c8fd4e0bc4437468dedb024e04b\n",
      "  Stored in directory: /home/xhh/.cache/pip/wheels/fb/f8/47/09700d9a19cbcbf0b7a3130690b75c0d6ff80fbda0b1774c7c\n",
      "Successfully built bokeh\n",
      "Installing collected packages: packaging, bokeh\n",
      "Successfully installed bokeh-1.4.0 packaging-19.2\n"
     ]
    }
   ],
   "source": [
    "!pip install bokeh"
   ]
  },
  {
   "cell_type": "code",
   "execution_count": null,
   "metadata": {},
   "outputs": [],
   "source": []
  }
 ],
 "metadata": {
  "kernelspec": {
   "display_name": "Python 3",
   "language": "python",
   "name": "python3"
  },
  "language_info": {
   "codemirror_mode": {
    "name": "ipython",
    "version": 3
   },
   "file_extension": ".py",
   "mimetype": "text/x-python",
   "name": "python",
   "nbconvert_exporter": "python",
   "pygments_lexer": "ipython3",
   "version": "3.6.9"
  }
 },
 "nbformat": 4,
 "nbformat_minor": 2
}
