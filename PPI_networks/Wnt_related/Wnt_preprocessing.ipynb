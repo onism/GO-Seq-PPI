{
 "cells": [
  {
   "cell_type": "code",
   "execution_count": 10,
   "metadata": {},
   "outputs": [],
   "source": [
    "with open('Wnt_proteinA.txt', 'r') as f:\n",
    "    all_lines_A = f.readlines()\n",
    "with open('Wnt_proteinB.txt', 'r') as f:\n",
    "    all_lines_B = f.readlines()"
   ]
  },
  {
   "cell_type": "code",
   "execution_count": 11,
   "metadata": {},
   "outputs": [],
   "source": [
    "ppi_pairs = []\n",
    "for i in range(96):\n",
    "    p1 = all_lines_A[i*2].rstrip()[1:]\n",
    "    p2 = all_lines_B[i*2].rstrip()[2:]\n",
    "    ppi_pair = p1 + '\\t' + p2 + '\\t1\\n'\n",
    "    ppi_pairs.append(ppi_pair)"
   ]
  },
  {
   "cell_type": "code",
   "execution_count": 12,
   "metadata": {},
   "outputs": [
    {
     "data": {
      "text/plain": [
       "['VIM\\tFAT5\\t1\\n',\n",
       " 'CGI-125\\tFAT5\\t1\\n',\n",
       " 'NFAT5\\tPP3CA\\t1\\n',\n",
       " 'PPP3CA\\tLCB1\\t1\\n',\n",
       " 'PLCB1\\tAMK2A\\t1\\n',\n",
       " 'PLCB1\\tRKCA\\t1\\n',\n",
       " 'PLCB1\\tZD10\\t1\\n',\n",
       " 'FZD10\\tVL1\\t1\\n',\n",
       " 'FZD10\\tNT4\\t1\\n',\n",
       " 'FZD10\\tFRP1\\t1\\n',\n",
       " 'FZD10\\tNT9A\\t1\\n',\n",
       " 'FZD10\\tRP6\\t1\\n',\n",
       " 'WNT4\\tFRP1\\t1\\n',\n",
       " 'WNT4\\tER1\\t1\\n',\n",
       " 'WNT4\\tIF1\\t1\\n',\n",
       " 'WNT4\\tER1\\t1\\n',\n",
       " 'SFRP1\\tNT9A\\t1\\n',\n",
       " 'SFRP1\\tNT16\\t1\\n',\n",
       " 'CER1\\tNT9A\\t1\\n',\n",
       " 'WNT9A\\tIF1\\t1\\n',\n",
       " 'WNT4\\tROCN\\t1\\n',\n",
       " 'WNT9A\\tROCN\\t1\\n',\n",
       " 'WIF1\\tNT16\\t1\\n',\n",
       " 'PROCN\\tNT16\\t1\\n',\n",
       " 'WNT16\\tTRN4\\t1\\n',\n",
       " 'WNT16\\tZD10\\t1\\n',\n",
       " 'LRP6\\tKK1\\t1\\n',\n",
       " 'DVL1\\tY6H\\t1\\n',\n",
       " 'DVL1\\tOC307255\\t1\\n',\n",
       " 'DVL1\\tKD1\\t1\\n',\n",
       " 'DVL1\\tENP2\\t1\\n',\n",
       " 'SENP2\\tDK5RAP2\\t1\\n',\n",
       " 'DVL1\\tXXC4\\t1\\n',\n",
       " 'DVL1\\tSNK2A1\\t1\\n',\n",
       " 'CSNK2A1\\tHX1\\t1\\n',\n",
       " 'DVL1\\tPC2\\t1\\n',\n",
       " 'DVL1\\tRAT1\\t1\\n',\n",
       " 'DVL1\\tSK3B\\t1\\n',\n",
       " 'DVL1\\tXIN1\\t1\\n',\n",
       " 'DVL1\\tAAM1\\t1\\n',\n",
       " 'DVL1\\tAC4\\t1\\n',\n",
       " 'DVL1\\tANGL2\\t1\\n',\n",
       " 'DVL1\\tRICKLE1\\t1\\n',\n",
       " 'DVL1\\tSP13\\t1\\n',\n",
       " 'PRICKLE1\\tANGL2\\t1\\n',\n",
       " 'DDX19\\tKP1A\\t1\\n',\n",
       " 'SKP1A\\tBXO34\\t1\\n',\n",
       " 'RAC4\\tARK2\\t1\\n',\n",
       " 'RAC4\\tAPK8\\t1\\n',\n",
       " 'DAAM1\\tHOA\\t1\\n',\n",
       " 'FRAT1\\tSK3B\\t1\\n',\n",
       " 'APC2\\tBL1\\t1\\n',\n",
       " 'APC2\\tXIN1\\t1\\n',\n",
       " 'APC2\\tTNNB\\t1\\n',\n",
       " 'TBL1\\tTNNB\\t1\\n',\n",
       " 'AXIN1\\tSNK1E\\t1\\n',\n",
       " 'AXIN1\\tSK3B\\t1\\n',\n",
       " 'GSK3B\\tRKACA\\t1\\n',\n",
       " 'GSK3B\\tTNNB\\t1\\n',\n",
       " 'AXIN1\\tTNNB\\t1\\n',\n",
       " 'CTNNB\\tRKACA\\t1\\n',\n",
       " 'CTNNB\\tD3\\t1\\n',\n",
       " 'AD3\\tRKACA\\t1\\n',\n",
       " 'CTNNB\\tTNNBIP1\\t1\\n',\n",
       " 'CTNNB\\tTRC\\t1\\n',\n",
       " 'CTNNB\\tCF7\\t1\\n',\n",
       " 'CTNNB\\tUVBL1\\t1\\n',\n",
       " 'TCF7\\tUVBL1\\t1\\n',\n",
       " 'TCF7\\tOX17\\t1\\n',\n",
       " 'RUVBL1\\tIAA1377\\t1\\n',\n",
       " 'CTNNB\\tSNK1A1\\t1\\n',\n",
       " 'AXIN1\\tSNK1A1\\t1\\n',\n",
       " 'AXIN1\\tAK\\t1\\n',\n",
       " 'AXIN1\\tEF1A1\\t1\\n',\n",
       " 'AXIN1\\tDCCAG16\\t1\\n',\n",
       " 'AXIN1\\tH3GL1\\t1\\n',\n",
       " 'AXIN1\\tPP2CA\\t1\\n',\n",
       " 'AXIN1\\tNP32A\\t1\\n',\n",
       " 'AXIN1\\tRMP1\\t1\\n',\n",
       " 'CRMP1\\tOCK1\\t1\\n',\n",
       " 'ROCK1\\tHOA\\t1\\n',\n",
       " 'PPP2CA\\tNP32A\\t1\\n',\n",
       " 'PPP2CA\\tRIH2\\t1\\n',\n",
       " 'PPP2CA\\tRPS26\\t1\\n',\n",
       " 'PPP2CA\\tSYNA1\\t1\\n',\n",
       " 'PPP2CA\\tTN\\t1\\n',\n",
       " 'MAPK8\\tHOA\\t1\\n',\n",
       " 'MAPK8\\tCP5\\t1\\n',\n",
       " 'MAPK8\\tPO7\\t1\\n',\n",
       " 'MAPK8\\tPNPEP1\\t1\\n',\n",
       " 'MAPK8\\tTF3C1\\t1\\n',\n",
       " 'MAPK8\\tNC119\\t1\\n',\n",
       " 'MAPK8\\tIAA1377\\t1\\n',\n",
       " 'TAK1\\tLK\\t1\\n',\n",
       " 'COPS6\\tSTS\\t1\\n',\n",
       " 'BCL1\\tTP5C1\\t1\\n']"
      ]
     },
     "execution_count": 12,
     "metadata": {},
     "output_type": "execute_result"
    }
   ],
   "source": [
    "ppi_pairs"
   ]
  },
  {
   "cell_type": "code",
   "execution_count": 14,
   "metadata": {},
   "outputs": [],
   "source": [
    "prot2seq = {}\n",
    "for i in range(96):\n",
    "    id1 = all_lines_A[i*2].rstrip()[1:]\n",
    "    seq1 = all_lines_A[i*2+1].rstrip()\n",
    "    \n",
    "    id2 = all_lines_B[i*2].rstrip()[1:]\n",
    "    seq2 = all_lines_B[i*2+1].rstrip()\n",
    "    \n",
    "    if id1 not in prot2seq.keys():\n",
    "        prot2seq[id1] = seq1\n",
    "    if id2 not in prot2seq.keys():\n",
    "        prot2seq[id2] = seq2\n",
    "        "
   ]
  },
  {
   "cell_type": "code",
   "execution_count": 24,
   "metadata": {},
   "outputs": [],
   "source": [
    "with open('seqs.fasta', 'r') as f:\n",
    "    all_seqs = f.readlines()"
   ]
  },
  {
   "cell_type": "code",
   "execution_count": 28,
   "metadata": {},
   "outputs": [],
   "source": [
    "protID2seqs = {}\n",
    "for line in all_seqs:\n",
    "    if line.startswith('>'):\n",
    "        protID = line.rstrip().split('|')[1]\n",
    "        protID2seqs[protID] = ''\n",
    "    else:\n",
    "        protID2seqs[protID] += line.rstrip()\n",
    "        \n",
    "    "
   ]
  },
  {
   "cell_type": "code",
   "execution_count": 30,
   "metadata": {},
   "outputs": [],
   "source": [
    "prot_name2id = {}\n",
    "find_id_list = []\n",
    "for key1, value1 in prot2seq.items():\n",
    "    for key2, value2 in protID2seqs.items():\n",
    "        if value1 == value2:\n",
    "            prot_name2id[key1] = key2\n",
    "            find_id_list.append(key1)\n",
    "            break"
   ]
  },
  {
   "cell_type": "code",
   "execution_count": 16,
   "metadata": {},
   "outputs": [],
   "source": [
    "unique_keys = list(prot2seq.keys())"
   ]
  },
  {
   "cell_type": "code",
   "execution_count": 34,
   "metadata": {},
   "outputs": [
    {
     "data": {
      "text/plain": [
       "{'ACP5',\n",
       " 'CDK5RAP2',\n",
       " 'CSNK1A1',\n",
       " 'CSNK2A1',\n",
       " 'CTNNBIP1',\n",
       " 'DDX19',\n",
       " 'LOC307255',\n",
       " 'PROCN',\n",
       " 'RAC4',\n",
       " 'RSTS'}"
      ]
     },
     "execution_count": 34,
     "metadata": {},
     "output_type": "execute_result"
    }
   ],
   "source": [
    "set(unique_keys)- set(find_id_list)"
   ]
  },
  {
   "cell_type": "code",
   "execution_count": 50,
   "metadata": {},
   "outputs": [],
   "source": [
    "prot_name2id['ACP5'] = 'P13686'\n",
    "prot_name2id['CDK5RAP2'] = 'Q05CZ3'\n",
    "prot_name2id['CSNK1A1'] = 'Q6PJ06'\n",
    "prot_name2id['CSNK2A1'] = 'Q5U5J2'\n",
    "prot_name2id['CTNNBIP1'] = 'Q8WZA0'\n",
    "prot_name2id['DDX19'] = 'Q9NUU7'\n",
    "prot_name2id['LOC307255'] = ''\n",
    "prot_name2id['PROCN'] = 'Q6P2Q9'\n",
    "prot_name2id['RAC4'] = 'Q67VP4'\n",
    "prot_name2id['RSTS'] = 'Q92793'"
   ]
  },
  {
   "cell_type": "code",
   "execution_count": 51,
   "metadata": {},
   "outputs": [
    {
     "name": "stderr",
     "output_type": "stream",
     "text": [
      "100%|██████████| 77/77 [02:19<00:00,  1.81s/it]\n"
     ]
    }
   ],
   "source": [
    "import requests, sys\n",
    "import json\n",
    "from tqdm import tqdm\n",
    "ppi_go_terms = {}\n",
    "remain_proteins = []\n",
    "for t in tqdm(unique_keys):\n",
    "    protID = prot_name2id[t]\n",
    "    if protID !='':\n",
    "        requestURL = \"https://www.ebi.ac.uk/QuickGO/services/annotation/search?geneProductId=\"+protID\n",
    "        r = requests.get(requestURL, headers={ \"Accept\" : \"application/json\"})\n",
    "        if r.ok:\n",
    "            responseBody = r.text\n",
    "            data=json.loads(responseBody)\n",
    "            for k in data['results']: \n",
    "                go_id = k['goId'] \n",
    "                if t not in ppi_go_terms.keys():\n",
    "                    ppi_go_terms[t] = go_id\n",
    "                else:\n",
    "                    ppi_go_terms[t] = ppi_go_terms[t] + ';' + go_id\n",
    "            if len(data['results']) == 0:\n",
    "                remain_proteins.append(t)\n",
    "        else:\n",
    "            remain_proteins.append(t)\n",
    "    else:\n",
    "        ppi_go_terms[t] = ''"
   ]
  },
  {
   "cell_type": "code",
   "execution_count": 52,
   "metadata": {},
   "outputs": [
    {
     "data": {
      "text/plain": [
       "[]"
      ]
     },
     "execution_count": 52,
     "metadata": {},
     "output_type": "execute_result"
    }
   ],
   "source": [
    "remain_proteins"
   ]
  },
  {
   "cell_type": "code",
   "execution_count": 53,
   "metadata": {},
   "outputs": [],
   "source": [
    "from six.moves import cPickle as pickle #for performance\n",
    "\n",
    " \n",
    "def save_dict(di_, filename_):\n",
    "    with open(filename_, 'wb') as f:\n",
    "        pickle.dump(di_, f)\n",
    "\n",
    "def load_dict(filename_):\n",
    "    with open(filename_, 'rb') as f:\n",
    "        ret_di = pickle.load(f)\n",
    "    return ret_di"
   ]
  },
  {
   "cell_type": "code",
   "execution_count": 54,
   "metadata": {},
   "outputs": [],
   "source": [
    "save_dict(ppi_go_terms,'prot2go.pkl')"
   ]
  },
  {
   "cell_type": "code",
   "execution_count": 55,
   "metadata": {},
   "outputs": [],
   "source": [
    "save_dict(prot2seq, 'prot2seq.pkl')"
   ]
  },
  {
   "cell_type": "code",
   "execution_count": 56,
   "metadata": {},
   "outputs": [
    {
     "ename": "KeyError",
     "evalue": "'FAT5'",
     "output_type": "error",
     "traceback": [
      "\u001b[0;31m---------------------------------------------------------------------------\u001b[0m",
      "\u001b[0;31mKeyError\u001b[0m                                  Traceback (most recent call last)",
      "\u001b[0;32m<ipython-input-56-8435aa53c473>\u001b[0m in \u001b[0;36m<module>\u001b[0;34m\u001b[0m\n\u001b[0;32m----> 1\u001b[0;31m \u001b[0mppi_go_terms\u001b[0m\u001b[0;34m[\u001b[0m\u001b[0;34m'FAT5'\u001b[0m\u001b[0;34m]\u001b[0m\u001b[0;34m\u001b[0m\u001b[0;34m\u001b[0m\u001b[0m\n\u001b[0m",
      "\u001b[0;31mKeyError\u001b[0m: 'FAT5'"
     ]
    }
   ],
   "source": [
    "ppi_go_terms['FAT5']"
   ]
  },
  {
   "cell_type": "code",
   "execution_count": null,
   "metadata": {},
   "outputs": [],
   "source": []
  }
 ],
 "metadata": {
  "kernelspec": {
   "display_name": "Python 3",
   "language": "python",
   "name": "python3"
  },
  "language_info": {
   "codemirror_mode": {
    "name": "ipython",
    "version": 3
   },
   "file_extension": ".py",
   "mimetype": "text/x-python",
   "name": "python",
   "nbconvert_exporter": "python",
   "pygments_lexer": "ipython3",
   "version": "3.6.9"
  }
 },
 "nbformat": 4,
 "nbformat_minor": 2
}
