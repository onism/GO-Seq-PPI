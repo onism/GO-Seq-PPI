{
 "cells": [
  {
   "cell_type": "code",
   "execution_count": 8,
   "metadata": {},
   "outputs": [],
   "source": [
    "with open('yeast_data/protein.actions.tsv', 'r') as f:\n",
    "    ppi_pairs = f.readlines()[1:]"
   ]
  },
  {
   "cell_type": "code",
   "execution_count": 9,
   "metadata": {},
   "outputs": [],
   "source": [
    "import numpy as np\n",
    "class_labels = []\n",
    "for line in ppi_pairs:\n",
    "    p1,p2,label = line.rstrip().split('\\t')\n",
    "    class_labels.append(int(label))\n",
    "class_labels = np.array(class_labels)"
   ]
  },
  {
   "cell_type": "code",
   "execution_count": 10,
   "metadata": {},
   "outputs": [
    {
     "name": "stdout",
     "output_type": "stream",
     "text": [
      "5\n"
     ]
    }
   ],
   "source": [
    "import numpy as np\n",
    "from sklearn.model_selection import KFold, ShuffleSplit\n",
    "kf = KFold(n_splits=5, shuffle=True)\n",
    "tries = 5\n",
    "cur = 0\n",
    "recalls = []\n",
    "accuracy = []\n",
    "total = []\n",
    "total_truth = []\n",
    "train_test = []\n",
    "for train, test in kf.split(class_labels):\n",
    "    if np.sum(class_labels[train]) > 0.8 * len(train) or np.sum(class_labels[train])  < 0.2 * len(train):\n",
    "        print('--')\n",
    "        continue\n",
    "    train_test.append((train, test))\n",
    "    \n",
    "    \n",
    "    train_pairs_file = 'yeast_data/new_train-'+str(cur)\n",
    "    train_valid_pairs_file = 'yeast_data/new_train_valid-'+str(cur)\n",
    "    test_pairs_file = 'yeast_data/new_test-'+str(cur)\n",
    "     \n",
    "         \n",
    "    valid_pairs_file = 'yeast_data/new_valid'+str(cur) \n",
    "    valid_len = int(train.shape[0]*0.1)\n",
    "    train_valid_idx = np.arange(train.shape[0])\n",
    "    np.random.shuffle(train_valid_idx)\n",
    "    \n",
    "    \n",
    "#     with open(train_valid_pairs_file,'w') as f:\n",
    "#         for ind in train_valid_idx:\n",
    "#             f.writelines(ppi_pairs[ind])\n",
    "         \n",
    "         \n",
    "#     with open(train_pairs_file,'w') as f:\n",
    "#         for ind in train_valid_idx[:train.shape[0]-valid_len]:\n",
    "#             f.writelines(ppi_pairs[ind])\n",
    "         \n",
    "#     with open(test_pairs_file,'w') as f:\n",
    "#         for ind in test:\n",
    "#             f.writelines(ppi_pairs[ind])\n",
    "        \n",
    "#     with open(valid_pairs_file,'w') as f:\n",
    "#         for ind in train_valid_idx[train.shape[0]-valid_len:]:\n",
    "#             f.writelines(ppi_pairs[ind])\n",
    "        \n",
    "        \n",
    "    cur += 1\n",
    "    if cur >= tries:\n",
    "        break\n",
    "\n",
    "print (len(train_test))"
   ]
  },
  {
   "cell_type": "code",
   "execution_count": 17,
   "metadata": {},
   "outputs": [
    {
     "data": {
      "text/plain": [
       "(array([    1,     2,     3, ..., 11180, 11181, 11182]),\n",
       " array([    0,     7,     8, ..., 11184, 11185, 11186]))"
      ]
     },
     "execution_count": 17,
     "metadata": {},
     "output_type": "execute_result"
    }
   ],
   "source": [
    "train_test[0]"
   ]
  },
  {
   "cell_type": "code",
   "execution_count": 11,
   "metadata": {},
   "outputs": [
    {
     "data": {
      "text/plain": [
       "1143"
      ]
     },
     "execution_count": 11,
     "metadata": {},
     "output_type": "execute_result"
    }
   ],
   "source": [
    "np.sum(class_labels[test])"
   ]
  },
  {
   "cell_type": "code",
   "execution_count": 12,
   "metadata": {},
   "outputs": [
    {
     "data": {
      "text/plain": [
       "2237"
      ]
     },
     "execution_count": 12,
     "metadata": {},
     "output_type": "execute_result"
    }
   ],
   "source": [
    "len(class_labels[test])"
   ]
  },
  {
   "cell_type": "code",
   "execution_count": null,
   "metadata": {},
   "outputs": [],
   "source": []
  }
 ],
 "metadata": {
  "kernelspec": {
   "display_name": "Python 3",
   "language": "python",
   "name": "python3"
  },
  "language_info": {
   "codemirror_mode": {
    "name": "ipython",
    "version": 3
   },
   "file_extension": ".py",
   "mimetype": "text/x-python",
   "name": "python",
   "nbconvert_exporter": "python",
   "pygments_lexer": "ipython3",
   "version": "3.6.9"
  }
 },
 "nbformat": 4,
 "nbformat_minor": 2
}
