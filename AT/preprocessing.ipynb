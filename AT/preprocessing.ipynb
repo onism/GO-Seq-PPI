{
 "cells": [
  {
   "cell_type": "code",
   "execution_count": 1,
   "metadata": {},
   "outputs": [],
   "source": [
    "with open('AT_pair.txt', 'r') as f:\n",
    "    ppi_pairs = f.readlines() \n"
   ]
  },
  {
   "cell_type": "code",
   "execution_count": 2,
   "metadata": {},
   "outputs": [],
   "source": [
    "# !mkdir CV"
   ]
  },
  {
   "cell_type": "code",
   "execution_count": 3,
   "metadata": {},
   "outputs": [],
   "source": [
    "from sklearn.model_selection import StratifiedKFold\n",
    "from sklearn.model_selection import train_test_split\n",
    "import numpy as np\n",
    "for rep in range(3):\n",
    "    n_splits = 10\n",
    "    y_all_1 =  np.zeros((int(len(ppi_pairs)/2),1))\n",
    "    y_all_2 =  np.ones( ( len(ppi_pairs) - int(len(ppi_pairs)/2)   ,1))\n",
    "    y_all = np.concatenate((y_all_1, y_all_2), axis=0)\n",
    "    skf = StratifiedKFold(n_splits=n_splits, shuffle=True)\n",
    "    skf_v = StratifiedKFold(n_splits=5, shuffle=True)\n",
    "\n",
    "    for i, (train, test) in enumerate(skf.split(ppi_pairs, y_all)):\n",
    "         \n",
    "        train_pairs_file = 'CV/train'+str(rep)+'-'+str(i)\n",
    "        test_pairs_file = 'CV/test'+str(rep)+'-'+str(i)\n",
    "        valid_pairs_file = 'CV/valid'+str(rep)+'-'+str(i)\n",
    "        valid_len = int(train.shape[0]*0.1)\n",
    "        train_valid_idx = np.arange(train.shape[0])\n",
    "        np.random.shuffle(train_valid_idx)\n",
    "         \n",
    "         \n",
    "        with open(train_pairs_file,'w') as f:\n",
    "            for ind in train_valid_idx[:train.shape[0]-valid_len]:\n",
    "                f.writelines(ppi_pairs[ind])\n",
    "         \n",
    "        with open(test_pairs_file,'w') as f:\n",
    "            for ind in test:\n",
    "                f.writelines(ppi_pairs[ind])\n",
    "        \n",
    "        with open(valid_pairs_file,'w') as f:\n",
    "            for ind in train_valid_idx[train.shape[0]-valid_len:]:\n",
    "                f.writelines(ppi_pairs[ind])"
   ]
  },
  {
   "cell_type": "code",
   "execution_count": 4,
   "metadata": {},
   "outputs": [],
   "source": [
    "with open('sequence.txt', 'r') as f:\n",
    "    all_seqs = f.readlines()"
   ]
  },
  {
   "cell_type": "code",
   "execution_count": 5,
   "metadata": {},
   "outputs": [
    {
     "data": {
      "text/plain": [
       "'Q94CL9\\tMSETKPKRDSEYEGSNIKRMRLDDDDDVLRSPTRTLSSSSSSSLAYSVSDSGGFCSVALSEEEDDHLSSSISSGCSSSETNEIATRLPFSDLEAHEISETEISTLLTNNFRKQGISSSENLGETAEMDSATTEMRDQRKTEKKKKMEKSPTQAELDDFFSAAERYEQKRFTEKYNYDIVNDTPLEGRYQWVSLKP\\n'"
      ]
     },
     "execution_count": 5,
     "metadata": {},
     "output_type": "execute_result"
    }
   ],
   "source": [
    "all_seqs[0]"
   ]
  },
  {
   "cell_type": "code",
   "execution_count": 6,
   "metadata": {},
   "outputs": [],
   "source": [
    "prot2seq = {}\n",
    "for line in all_seqs:\n",
    "    protID, seqs = line.rstrip().split('\\t')\n",
    "    prot2seq[protID] = seqs"
   ]
  },
  {
   "cell_type": "code",
   "execution_count": 7,
   "metadata": {},
   "outputs": [
    {
     "data": {
      "text/plain": [
       "'MSETKPKRDSEYEGSNIKRMRLDDDDDVLRSPTRTLSSSSSSSLAYSVSDSGGFCSVALSEEEDDHLSSSISSGCSSSETNEIATRLPFSDLEAHEISETEISTLLTNNFRKQGISSSENLGETAEMDSATTEMRDQRKTEKKKKMEKSPTQAELDDFFSAAERYEQKRFTEKYNYDIVNDTPLEGRYQWVSLKP'"
      ]
     },
     "execution_count": 7,
     "metadata": {},
     "output_type": "execute_result"
    }
   ],
   "source": [
    "prot2seq['Q94CL9']"
   ]
  },
  {
   "cell_type": "code",
   "execution_count": 8,
   "metadata": {},
   "outputs": [],
   "source": [
    "from six.moves import cPickle as pickle #for performance\n",
    "\n",
    " \n",
    "def save_dict(di_, filename_):\n",
    "    with open(filename_, 'wb') as f:\n",
    "        pickle.dump(di_, f)\n",
    "\n",
    "def load_dict(filename_):\n",
    "    with open(filename_, 'rb') as f:\n",
    "        ret_di = pickle.load(f)\n",
    "    return ret_di"
   ]
  },
  {
   "cell_type": "code",
   "execution_count": 9,
   "metadata": {},
   "outputs": [],
   "source": [
    "save_dict(prot2seq, 'ATprot2seq.pkl')"
   ]
  },
  {
   "cell_type": "code",
   "execution_count": 10,
   "metadata": {},
   "outputs": [],
   "source": [
    "with open('go_term.txt', 'r') as f:\n",
    "    all_goterms = f.readlines()"
   ]
  },
  {
   "cell_type": "code",
   "execution_count": 11,
   "metadata": {},
   "outputs": [
    {
     "data": {
      "text/plain": [
       "'O81127\\tGO:0005515,GO:0016607,GO:0005681,GO:0008270,GO:0003676,GO:0000398,GO:0000166\\n'"
      ]
     },
     "execution_count": 11,
     "metadata": {},
     "output_type": "execute_result"
    }
   ],
   "source": [
    "all_goterms[0]"
   ]
  },
  {
   "cell_type": "code",
   "execution_count": 12,
   "metadata": {},
   "outputs": [
    {
     "name": "stdout",
     "output_type": "stream",
     "text": [
      "B2BDI6\t\n",
      "\n",
      "Q3E6N8\t\n",
      "\n",
      "Q1H5B6\t\n",
      "\n",
      "B9DFM6\t\n",
      "\n",
      "A8MR24\t\n",
      "\n",
      "Q3ED96\t\n",
      "\n",
      "Q1EC57\t\n",
      "\n",
      "A8MR96\t\n",
      "\n",
      "Q2HII6\t\n",
      "\n",
      "C0SUY4\t\n",
      "\n",
      "Q548D1\t\n",
      "\n",
      "A8MQJ8\t\n",
      "\n",
      "Q68KJ4\t\n",
      "\n",
      "Q08A56\t\n",
      "\n",
      "B3H6L9\t\n",
      "\n",
      "A4FVN8\t\n",
      "\n",
      "Q94AW9\t\n",
      "\n"
     ]
    }
   ],
   "source": [
    "prot2go= {}\n",
    "for line in all_goterms:\n",
    "    splittext = line.rstrip().split('\\t')\n",
    "    if len(splittext) == 2:\n",
    "        protID, gos = line.rstrip().split('\\t')\n",
    "        prot2go[protID] = gos\n",
    "    else:\n",
    "        print(line)\n",
    "        protID = splittext[0] \n",
    "        prot2go[protID] = ''"
   ]
  },
  {
   "cell_type": "code",
   "execution_count": 13,
   "metadata": {},
   "outputs": [],
   "source": [
    "prot2go['Q1H5B6'] =  'GO:0005737,GO:0008180'    \n",
    "prot2go['B2BDI6'] =  'GO:0005634,GO:0005737,GO:0042742,GO:0050832,GO:0080027'  \n",
    "prot2go['Q1EC57'] =  'GO:0005515,GO:0008180,GO:0000338'    \n",
    "prot2go['A8MR96'] =  'GO:0007165'    \n",
    "\n",
    "prot2go['C0SUY4'] =  'GO:0006355,GO:0009909,GO:0010074,GO:0010193,GO:0030154,GO:0042127,GO:1901342'    \n",
    "prot2go['Q548D1'] =  'GO:0005737,GO:0000338,GO:0008180,GO:0010387'    \n",
    "\n",
    "prot2go['Q68KJ4'] =  'GO:2000028'    \n",
    "prot2go['A4FVN8'] =  'GO:0000398,GO:0005576,GO:0071013'    \n",
    "prot2go['Q94AW9'] =  'GO:0000178,GO:0003723,GO:0000176,GO:0000177,GO:0000467,GO:0034427,GO:0034475,GO:0043928,GO:0071034,GO:0071035,GO:0071038,GO:0071049,GO:0071051'    \n",
    "\n"
   ]
  },
  {
   "cell_type": "code",
   "execution_count": 14,
   "metadata": {},
   "outputs": [
    {
     "data": {
      "text/plain": [
       "'GO:0005515,GO:0016607,GO:0005681,GO:0008270,GO:0003676,GO:0000398,GO:0000166'"
      ]
     },
     "execution_count": 14,
     "metadata": {},
     "output_type": "execute_result"
    }
   ],
   "source": [
    "prot2go['O81127']"
   ]
  },
  {
   "cell_type": "code",
   "execution_count": 15,
   "metadata": {},
   "outputs": [],
   "source": [
    "save_dict(prot2go, 'ATprot2go.pkl')"
   ]
  },
  {
   "cell_type": "code",
   "execution_count": 16,
   "metadata": {},
   "outputs": [],
   "source": [
    "max_golen = 0\n",
    "for key, value in prot2go.items():\n",
    "    gos = value.split(',')\n",
    "    count = 0\n",
    "    for go in gos:\n",
    "        if len(go) > 3:\n",
    "            feature = np.load('../ncbi_allfeatures4go/'+go+'_0.npy')\n",
    "            count += feature.shape[0]-2\n",
    "    if max_golen < count:\n",
    "        max_golen = count\n",
    "    "
   ]
  },
  {
   "cell_type": "code",
   "execution_count": 17,
   "metadata": {},
   "outputs": [
    {
     "data": {
      "text/plain": [
       "270"
      ]
     },
     "execution_count": 17,
     "metadata": {},
     "output_type": "execute_result"
    }
   ],
   "source": [
    "max_golen"
   ]
  },
  {
   "cell_type": "code",
   "execution_count": null,
   "metadata": {},
   "outputs": [],
   "source": []
  }
 ],
 "metadata": {
  "kernelspec": {
   "display_name": "Python 3",
   "language": "python",
   "name": "python3"
  },
  "language_info": {
   "codemirror_mode": {
    "name": "ipython",
    "version": 3
   },
   "file_extension": ".py",
   "mimetype": "text/x-python",
   "name": "python",
   "nbconvert_exporter": "python",
   "pygments_lexer": "ipython3",
   "version": "3.6.9"
  }
 },
 "nbformat": 4,
 "nbformat_minor": 2
}
