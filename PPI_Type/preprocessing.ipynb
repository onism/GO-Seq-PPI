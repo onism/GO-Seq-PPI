{
 "cells": [
  {
   "cell_type": "code",
   "execution_count": 1,
   "metadata": {},
   "outputs": [],
   "source": [
    "id2seq_file = '../type_data/protein.sequences.dictionary.both.tsv'\n",
    "\n",
    "id2index = {}\n",
    "seqs = []\n",
    "index = 0\n",
    "for line in open(id2seq_file):\n",
    "    line = line.strip().split('\\t')\n",
    "    id2index[line[0]] = index\n",
    "    seqs.append(line[1])\n",
    "    index += 1\n",
    "seq_array = []\n",
    "id2_aid = {}\n",
    "sid = 0\n",
    "\n",
    "seq_size = 2000"
   ]
  },
  {
   "cell_type": "code",
   "execution_count": null,
   "metadata": {},
   "outputs": [],
   "source": [
    "# ensp2protID = {}\n",
    "# with open('../type_data/ensp2uniport.tab', 'r') as f:\n",
    "#     all_lines = f.readlines()\n",
    "#     for line in all_lines[1:]:\n",
    "#         split_text = line.rstrip().split('\\t')\n",
    "#         ensp = split_text[0]\n",
    "#         protID = split_text[1]\n",
    "#         ensp2protID[ensp] = protID"
   ]
  },
  {
   "cell_type": "code",
   "execution_count": 2,
   "metadata": {},
   "outputs": [],
   "source": [
    "with open('uniprot-all.tab.txt', 'r') as infile:\n",
    "    all_lines = infile.readlines()"
   ]
  },
  {
   "cell_type": "code",
   "execution_count": 3,
   "metadata": {},
   "outputs": [],
   "source": [
    "ensp2protID = {}\n",
    "for line in all_lines[1:]:\n",
    "    split_texts = line.split('\\t')\n",
    "    protID = split_texts[0]\n",
    "    ensembleID = split_texts[10]\n",
    "    if '9606' in ensembleID:\n",
    "        ensp2protID[ensembleID] = protID"
   ]
  },
  {
   "cell_type": "code",
   "execution_count": 4,
   "metadata": {},
   "outputs": [
    {
     "data": {
      "text/plain": [
       "'P84085'"
      ]
     },
     "execution_count": 4,
     "metadata": {},
     "output_type": "execute_result"
    }
   ],
   "source": [
    "ensp2protID['9606.ENSP00000000233']"
   ]
  },
  {
   "cell_type": "code",
   "execution_count": null,
   "metadata": {},
   "outputs": [],
   "source": [
    "# with open('ensp.txt', 'w') as f:\n",
    "#     for key, value in id2index.items():\n",
    "#         f.writelines(key+' ')"
   ]
  },
  {
   "cell_type": "code",
   "execution_count": 6,
   "metadata": {},
   "outputs": [],
   "source": [
    "ds_file = '../type_data/protein.actions.SHS27k.tsv'\n",
    "label_index = 4\n",
    "sid1_index = 2\n",
    "sid2_index = 3\n",
    "raw_data = []\n",
    "skip_head = True\n",
    "x = None\n",
    "count = 0\n",
    "max_data = -1\n",
    "limit_data = max_data > 0\n",
    "for line in open(ds_file):\n",
    "    if skip_head:\n",
    "        skip_head = False\n",
    "        continue\n",
    "    line = line.rstrip('\\n').rstrip('\\r').split('\\t')\n",
    "    raw_data.append(line)\n",
    "     "
   ]
  },
  {
   "cell_type": "code",
   "execution_count": 7,
   "metadata": {},
   "outputs": [],
   "source": [
    "import numpy as np\n",
    "seq_index1 = np.array([line[sid1_index] for line in raw_data])\n",
    "seq_index2 = np.array([line[sid2_index] for line in raw_data])\n"
   ]
  },
  {
   "cell_type": "code",
   "execution_count": 8,
   "metadata": {},
   "outputs": [
    {
     "name": "stdout",
     "output_type": "stream",
     "text": [
      "{'reaction': 0, 'binding': 1, 'ptmod': 2, 'activation': 3, 'inhibition': 4, 'catalysis': 5, 'expression': 6}\n"
     ]
    }
   ],
   "source": [
    "class_map = {'reaction':0,'binding':1,'ptmod':2,'activation':3,'inhibition':4,'catalysis':5,'expression':6}\n",
    "print(class_map)\n",
    "class_labels = np.zeros((len(raw_data), 7))\n",
    "for i in range(len(raw_data)):\n",
    "    class_labels[i][class_map[raw_data[i][label_index]]] = 1."
   ]
  },
  {
   "cell_type": "code",
   "execution_count": 11,
   "metadata": {},
   "outputs": [
    {
     "data": {
      "text/plain": [
       "array([4500., 4500., 2872., 4500., 4500., 4500., 1572.])"
      ]
     },
     "execution_count": 11,
     "metadata": {},
     "output_type": "execute_result"
    }
   ],
   "source": [
    "np.sum(class_labels, axis=0)"
   ]
  },
  {
   "cell_type": "code",
   "execution_count": 13,
   "metadata": {},
   "outputs": [
    {
     "name": "stdout",
     "output_type": "stream",
     "text": [
      "Collecting seaborn\n",
      "\u001b[33m  WARNING: Retrying (Retry(total=4, connect=None, read=None, redirect=None, status=None)) after connection broken by 'NewConnectionError('<pip._vendor.urllib3.connection.VerifiedHTTPSConnection object at 0x7f0ff505d550>: Failed to establish a new connection: [Errno -3] Temporary failure in name resolution',)': /packages/a8/76/220ba4420459d9c4c9c9587c6ce607bf56c25b3d3d2de62056efe482dadc/seaborn-0.9.0-py3-none-any.whl\u001b[0m\n",
      "\u001b[33m  WARNING: Retrying (Retry(total=3, connect=None, read=None, redirect=None, status=None)) after connection broken by 'NewConnectionError('<pip._vendor.urllib3.connection.VerifiedHTTPSConnection object at 0x7f0ff505d7f0>: Failed to establish a new connection: [Errno -3] Temporary failure in name resolution',)': /packages/a8/76/220ba4420459d9c4c9c9587c6ce607bf56c25b3d3d2de62056efe482dadc/seaborn-0.9.0-py3-none-any.whl\u001b[0m\n",
      "\u001b[33m  WARNING: Retrying (Retry(total=2, connect=None, read=None, redirect=None, status=None)) after connection broken by 'NewConnectionError('<pip._vendor.urllib3.connection.VerifiedHTTPSConnection object at 0x7f0ff505d6a0>: Failed to establish a new connection: [Errno -3] Temporary failure in name resolution',)': /packages/a8/76/220ba4420459d9c4c9c9587c6ce607bf56c25b3d3d2de62056efe482dadc/seaborn-0.9.0-py3-none-any.whl\u001b[0m\n",
      "\u001b[?25l  Downloading https://files.pythonhosted.org/packages/a8/76/220ba4420459d9c4c9c9587c6ce607bf56c25b3d3d2de62056efe482dadc/seaborn-0.9.0-py3-none-any.whl (208kB)\n",
      "\u001b[K     |████████████████████████████████| 215kB 436kB/s eta 0:00:01\n",
      "\u001b[?25hRequirement already satisfied: matplotlib>=1.4.3 in /home/xhh/anaconda3/envs/py36/lib/python3.6/site-packages (from seaborn) (3.1.2)\n",
      "Requirement already satisfied: pandas>=0.15.2 in /home/xhh/anaconda3/envs/py36/lib/python3.6/site-packages (from seaborn) (0.25.3)\n",
      "Requirement already satisfied: scipy>=0.14.0 in /home/xhh/anaconda3/envs/py36/lib/python3.6/site-packages (from seaborn) (1.3.2)\n",
      "Requirement already satisfied: numpy>=1.9.3 in /home/xhh/anaconda3/envs/py36/lib/python3.6/site-packages (from seaborn) (1.17.4)\n",
      "Requirement already satisfied: pyparsing!=2.0.4,!=2.1.2,!=2.1.6,>=2.0.1 in /home/xhh/anaconda3/envs/py36/lib/python3.6/site-packages (from matplotlib>=1.4.3->seaborn) (2.4.5)\n",
      "Requirement already satisfied: python-dateutil>=2.1 in /home/xhh/anaconda3/envs/py36/lib/python3.6/site-packages (from matplotlib>=1.4.3->seaborn) (2.8.0)\n",
      "Requirement already satisfied: kiwisolver>=1.0.1 in /home/xhh/anaconda3/envs/py36/lib/python3.6/site-packages (from matplotlib>=1.4.3->seaborn) (1.1.0)\n",
      "Requirement already satisfied: cycler>=0.10 in /home/xhh/anaconda3/envs/py36/lib/python3.6/site-packages (from matplotlib>=1.4.3->seaborn) (0.10.0)\n",
      "Requirement already satisfied: pytz>=2017.2 in /home/xhh/anaconda3/envs/py36/lib/python3.6/site-packages (from pandas>=0.15.2->seaborn) (2019.3)\n",
      "Requirement already satisfied: six>=1.5 in /home/xhh/anaconda3/envs/py36/lib/python3.6/site-packages (from python-dateutil>=2.1->matplotlib>=1.4.3->seaborn) (1.13.0)\n",
      "Requirement already satisfied: setuptools in /home/xhh/anaconda3/envs/py36/lib/python3.6/site-packages (from kiwisolver>=1.0.1->matplotlib>=1.4.3->seaborn) (41.6.0.post20191030)\n",
      "Installing collected packages: seaborn\n",
      "Successfully installed seaborn-0.9.0\n"
     ]
    }
   ],
   "source": [
    "!pip install seaborn"
   ]
  },
  {
   "cell_type": "code",
   "execution_count": 14,
   "metadata": {},
   "outputs": [],
   "source": [
    "import seaborn as sns\n",
    "sns.set_style(\"whitegrid\")"
   ]
  },
  {
   "cell_type": "code",
   "execution_count": 33,
   "metadata": {},
   "outputs": [
    {
     "data": {
      "image/png": "[encoded data removed]",
      "text/plain": [
       "<Figure size 432x288 with 1 Axes>"
      ]
     },
     "metadata": {
      "needs_background": "light"
     },
     "output_type": "display_data"
    }
   ],
   "source": [
    "import matplotlib.pyplot as plt\n",
    "import numpy as np\n",
    "import seaborn as sns\n",
    "import matplotlib.pylab as pylab\n",
    "params = {'legend.fontsize': 'x-large',\n",
    "         'axes.labelsize': 'x-large',\n",
    "         'axes.titlesize':'x-large',\n",
    "         'xtick.labelsize':'x-large',\n",
    "         'ytick.labelsize':'x-large'}\n",
    "pylab.rcParams.update(params)\n",
    "%matplotlib inline\n",
    "\n",
    "x=[1,1000,1001]\n",
    "y= np.sum(class_labels, axis=0)\n",
    "sns.set_context(rc={\"figure.figsize\": (20, 12)})\n",
    "nd = np.arange(7)\n",
    "width=1.5\n",
    "plt.xticks(nd, ('reaction','binding','ptmod', 'activation', 'inhibition', 'catalysis','expression'), rotation='vertical')\n",
    "# plt.xlim(-0.15,7)\n",
    "fig = plt.bar(nd, y, color=sns.color_palette(\"Blues\",7))\n",
    "plt.xticks(rotation=45)\n",
    "plt.ylabel('# of Samples')\n",
    "plt.savefig('shs27k_barplot.png')\n",
    "plt.savefig('shs27k_barplot.pdf')\n",
    "# plt.legend(fig, ['First','Second','Third'], loc = \"upper left\")"
   ]
  },
  {
   "cell_type": "code",
   "execution_count": 9,
   "metadata": {},
   "outputs": [],
   "source": [
    "ensp1 =  [line[sid1_index] for line in raw_data]\n",
    "ensp2 =  [line[sid2_index] for line in raw_data]\n"
   ]
  },
  {
   "cell_type": "code",
   "execution_count": null,
   "metadata": {},
   "outputs": [],
   "source": [
    "# np.savez('SHS27k', ensp1 = ensp1, ensp2=ensp2, labels = class_labels)"
   ]
  },
  {
   "cell_type": "code",
   "execution_count": 10,
   "metadata": {},
   "outputs": [],
   "source": [
    "unique_ensp = set(ensp1 + ensp2)"
   ]
  },
  {
   "cell_type": "code",
   "execution_count": 11,
   "metadata": {},
   "outputs": [
    {
     "name": "stdout",
     "output_type": "stream",
     "text": [
      "110\n"
     ]
    }
   ],
   "source": [
    "used_ensp2prot = {}\n",
    "unknown_ensp = []\n",
    "for ensp in unique_ensp:\n",
    "    if ensp not in ensp2protID.keys():\n",
    "        unknown_ensp.append(ensp)\n",
    "    else:\n",
    "        used_ensp2prot[ensp] = ensp2protID[ensp]\n",
    "print(len(unknown_ensp))"
   ]
  },
  {
   "cell_type": "code",
   "execution_count": 12,
   "metadata": {},
   "outputs": [
    {
     "name": "stderr",
     "output_type": "stream",
     "text": [
      "100%|██████████| 110/110 [02:03<00:00,  1.12s/it]\n"
     ]
    }
   ],
   "source": [
    "import requests, sys\n",
    "import json\n",
    "from tqdm import tqdm\n",
    "\n",
    "remain_proteins = []\n",
    "for t in tqdm(unknown_ensp):\n",
    "    url_base = 'https://www.ebi.ac.uk/ebisearch/ws/rest/proteinSequences/?query='\n",
    "    url_base += t[5:]\n",
    "    url_base += '&size=15&format=JSON&fieldurl=true&viewurl=true&fields=name&hlfields=description&entryattrs=score'\n",
    "    requestURL =  url_base\n",
    "    r = requests.get(requestURL, headers={ \"Accept\" : \"application/json\"})\n",
    "    if r.ok:\n",
    "        responseBody = r.text\n",
    "        data=json.loads(responseBody)\n",
    "        for entries in data['entries']:\n",
    "            if entries['source'] == 'uniprot':\n",
    "             \n",
    "                if t not in used_ensp2prot.keys():\n",
    "                    used_ensp2prot[t] = entries['acc']\n",
    "                else:\n",
    "                    break\n",
    "        if  data['hitCount'] == 0:\n",
    "            remain_proteins.append(t)\n",
    "    else:\n",
    "        remain_proteins.append(t) \n",
    " "
   ]
  },
  {
   "cell_type": "code",
   "execution_count": 13,
   "metadata": {},
   "outputs": [
    {
     "data": {
      "text/plain": [
       "['9606.ENSP00000262946',\n",
       " '9606.ENSP00000289352',\n",
       " '9606.ENSP00000239730',\n",
       " '9606.ENSP00000293276',\n",
       " '9606.ENSP00000303779',\n",
       " '9606.ENSP00000304994',\n",
       " '9606.ENSP00000292095',\n",
       " '9606.ENSP00000227256',\n",
       " '9606.ENSP00000293280',\n",
       " '9606.ENSP00000264487',\n",
       " '9606.ENSP00000317912',\n",
       " '9606.ENSP00000290575',\n",
       " '9606.ENSP00000277491',\n",
       " '9606.ENSP00000229824',\n",
       " '9606.ENSP00000316590',\n",
       " '9606.ENSP00000311493',\n",
       " '9606.ENSP00000244601',\n",
       " '9606.ENSP00000306241',\n",
       " '9606.ENSP00000244661',\n",
       " '9606.ENSP00000259791']"
      ]
     },
     "execution_count": 13,
     "metadata": {},
     "output_type": "execute_result"
    }
   ],
   "source": [
    "remain_proteins"
   ]
  },
  {
   "cell_type": "code",
   "execution_count": null,
   "metadata": {},
   "outputs": [],
   "source": [
    "# used_ensp2prot['9606.ENSP00000259791'] = 'P04908'\n",
    "# used_ensp2prot['9606.ENSP00000244661'] = 'P68431'\n",
    "# used_ensp2prot['9606.ENSP00000244601'] = 'P06899'\n",
    "# used_ensp2prot['9606.ENSP00000239730'] = ''\n",
    "# used_ensp2prot['9606.ENSP00000229824'] = 'Q7Z6P3'\n"
   ]
  },
  {
   "cell_type": "code",
   "execution_count": 14,
   "metadata": {},
   "outputs": [],
   "source": [
    "used_ensp2prot['9606.ENSP00000293276'] = 'Q16663'\n",
    "used_ensp2prot['9606.ENSP00000227256'] = 'A6NMT0'\n",
    "\n",
    "used_ensp2prot['9606.ENSP00000317912'] = 'Q9UGK3'\n",
    "used_ensp2prot['9606.ENSP00000316590'] = 'Q8WX69'\n",
    "\n",
    "used_ensp2prot['9606.ENSP00000293280'] = 'P55773'\n",
    "used_ensp2prot['9606.ENSP00000311493'] = 'Q53S48'\n",
    "\n",
    "\n",
    "used_ensp2prot['9606.ENSP00000293276'] = 'Q16663'\n",
    "used_ensp2prot['9606.ENSP00000229824'] = 'Q7Z6P3'\n",
    "\n",
    "\n",
    "used_ensp2prot['9606.ENSP00000306241'] = ''\n",
    "used_ensp2prot['9606.ENSP00000259791'] = 'P04908'\n",
    "\n",
    "\n",
    "used_ensp2prot['9606.ENSP00000292095'] = 'P56817'\n",
    "used_ensp2prot['9606.ENSP00000244661'] = 'P68431'\n",
    "\n",
    "\n",
    "\n",
    "used_ensp2prot['9606.ENSP00000304994'] = 'Q9UI36'\n",
    "used_ensp2prot['9606.ENSP00000239730'] = ''\n",
    "used_ensp2prot['9606.ENSP00000290575'] = 'P00736'\n",
    "used_ensp2prot['9606.ENSP00000262946'] = 'O14957'\n",
    "used_ensp2prot['9606.ENSP00000303779'] = 'A4GXA9'\n",
    "used_ensp2prot['9606.ENSP00000264487'] = 'P15514'\n",
    "used_ensp2prot['9606.ENSP00000244601'] = 'P06899'\n",
    "used_ensp2prot['9606.ENSP00000289352'] = 'P62805'"
   ]
  },
  {
   "cell_type": "code",
   "execution_count": 15,
   "metadata": {},
   "outputs": [
    {
     "name": "stderr",
     "output_type": "stream",
     "text": [
      "100%|██████████| 5188/5188 [1:35:37<00:00,  1.11s/it]  \n"
     ]
    }
   ],
   "source": [
    "import requests, sys\n",
    "import json\n",
    "from tqdm import tqdm\n",
    "ensemble2go_terms = {}\n",
    "remain_proteins = []\n",
    "for key in tqdm(used_ensp2prot.keys()):\n",
    "    t = used_ensp2prot[key]\n",
    "    if len(t) > 0:\n",
    "        requestURL = \"https://www.ebi.ac.uk/QuickGO/services/annotation/search?geneProductId=\"+t\n",
    "        r = requests.get(requestURL, headers={ \"Accept\" : \"application/json\"})\n",
    "        if r.ok:\n",
    "            responseBody = r.text\n",
    "            data=json.loads(responseBody)\n",
    "            for k in data['results']: \n",
    "                go_id = k['goId'] \n",
    "                if key not in ensemble2go_terms.keys():\n",
    "                    ensemble2go_terms[key] = go_id\n",
    "                else:\n",
    "                    ensemble2go_terms[key] = ensemble2go_terms[key] + ';' + go_id\n",
    "            if len(data['results']) == 0:\n",
    "                remain_proteins.append(key)\n",
    "        else:\n",
    "            remain_proteins.append(key)\n",
    "    else:\n",
    "        ensemble2go_terms[key] = ''"
   ]
  },
  {
   "cell_type": "code",
   "execution_count": 16,
   "metadata": {},
   "outputs": [
    {
     "data": {
      "text/plain": [
       "'GO:0000981;GO:0000790;GO:0000981;GO:0021515;GO:0006357;GO:0021521;GO:0006357;GO:0006355;GO:0043565;GO:0003677;GO:0005634;GO:0007275;GO:0003677;GO:0003677;GO:0005634'"
      ]
     },
     "execution_count": 16,
     "metadata": {},
     "output_type": "execute_result"
    }
   ],
   "source": [
    "ensemble2go_terms['9606.ENSP00000227256']"
   ]
  },
  {
   "cell_type": "code",
   "execution_count": 17,
   "metadata": {},
   "outputs": [],
   "source": [
    "from six.moves import cPickle as pickle #for performance\n",
    "\n",
    " \n",
    "def save_dict(di_, filename_):\n",
    "    with open(filename_, 'wb') as f:\n",
    "        pickle.dump(di_, f)\n",
    "\n",
    "def load_dict(filename_):\n",
    "    with open(filename_, 'rb') as f:\n",
    "        ret_di = pickle.load(f)\n",
    "    return ret_di"
   ]
  },
  {
   "cell_type": "code",
   "execution_count": 18,
   "metadata": {},
   "outputs": [
    {
     "data": {
      "text/plain": [
       "['9606.ENSP00000304923',\n",
       " '9606.ENSP00000269025',\n",
       " '9606.ENSP00000216923',\n",
       " '9606.ENSP00000295628',\n",
       " '9606.ENSP00000310146',\n",
       " '9606.ENSP00000302478',\n",
       " '9606.ENSP00000299443',\n",
       " '9606.ENSP00000269127',\n",
       " '9606.ENSP00000318635',\n",
       " '9606.ENSP00000300976',\n",
       " '9606.ENSP00000254835',\n",
       " '9606.ENSP00000290390',\n",
       " '9606.ENSP00000296144',\n",
       " '9606.ENSP00000309501',\n",
       " '9606.ENSP00000302077',\n",
       " '9606.ENSP00000317431',\n",
       " '9606.ENSP00000290943',\n",
       " '9606.ENSP00000306752']"
      ]
     },
     "execution_count": 18,
     "metadata": {},
     "output_type": "execute_result"
    }
   ],
   "source": [
    "remain_proteins"
   ]
  },
  {
   "cell_type": "code",
   "execution_count": 19,
   "metadata": {},
   "outputs": [],
   "source": [
    "for enspid in remain_proteins:\n",
    "    ensemble2go_terms[enspid] = ''"
   ]
  },
  {
   "cell_type": "code",
   "execution_count": 20,
   "metadata": {},
   "outputs": [],
   "source": [
    "save_dict(ensemble2go_terms, 'ensemble2go_terms_SHS148k.pkl')"
   ]
  },
  {
   "cell_type": "code",
   "execution_count": 21,
   "metadata": {},
   "outputs": [],
   "source": [
    "id2seq_file = '../type_data/protein.sequences.dictionary.both.tsv'\n",
    "\n",
    "id2seqs = {}\n",
    " \n",
    "for line in open(id2seq_file):\n",
    "    line = line.strip().split('\\t')\n",
    "    id2seqs[line[0]] = line[1]\n",
    "    "
   ]
  },
  {
   "cell_type": "code",
   "execution_count": 22,
   "metadata": {},
   "outputs": [],
   "source": [
    "save_dict(id2seqs, 'ensemble2seqs_SHS148k.pkl')"
   ]
  },
  {
   "cell_type": "code",
   "execution_count": null,
   "metadata": {},
   "outputs": [],
   "source": [
    "# !wget https://stringdb-static.org/download/protein.aliases.v11.0.txt.gz"
   ]
  },
  {
   "cell_type": "code",
   "execution_count": null,
   "metadata": {},
   "outputs": [],
   "source": [
    "# !gunzip protein.aliases.v11.0.txt.gz"
   ]
  },
  {
   "cell_type": "code",
   "execution_count": null,
   "metadata": {},
   "outputs": [],
   "source": [
    "# !wget http://159.226.67.237/sun/varcards/resource/data/uniprot-all.tab.txt"
   ]
  },
  {
   "cell_type": "code",
   "execution_count": null,
   "metadata": {},
   "outputs": [],
   "source": [
    "# !wget ftp://ftp.ebi.ac.uk/pub/databases/intact/current/psimitab/intact.txt"
   ]
  },
  {
   "cell_type": "code",
   "execution_count": null,
   "metadata": {},
   "outputs": [],
   "source": [
    "# https://www.ebi.ac.uk/ebisearch/ws/rest/proteinSequences/?query=ENSP00000000233&size=15&format=JSON&fieldurl=true&viewurl=true&fields=name&hlfields=description&entryattrs=score"
   ]
  },
  {
   "cell_type": "code",
   "execution_count": null,
   "metadata": {},
   "outputs": [],
   "source": []
  }
 ],
 "metadata": {
  "kernelspec": {
   "display_name": "Python 3",
   "language": "python",
   "name": "python3"
  },
  "language_info": {
   "codemirror_mode": {
    "name": "ipython",
    "version": 3
   },
   "file_extension": ".py",
   "mimetype": "text/x-python",
   "name": "python",
   "nbconvert_exporter": "python",
   "pygments_lexer": "ipython3",
   "version": "3.6.9"
  }
 },
 "nbformat": 4,
 "nbformat_minor": 2
}
